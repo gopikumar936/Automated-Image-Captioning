{
  "nbformat": 4,
  "nbformat_minor": 0,
  "metadata": {
    "colab": {
      "name": "Eazydiner  Assignment.ipynb",
      "provenance": [],
      "collapsed_sections": [],
      "toc_visible": true,
      "authorship_tag": "ABX9TyNkqUtfhZRQgyZvN22ZmUfs",
      "include_colab_link": true
    },
    "kernelspec": {
      "name": "python3",
      "display_name": "Python 3"
    },
    "language_info": {
      "name": "python"
    }
  },
  "cells": [
    {
      "cell_type": "markdown",
      "metadata": {
        "id": "view-in-github",
        "colab_type": "text"
      },
      "source": [
        "<a href=\"https://colab.research.google.com/github/gopikumar936/Automated-Image-Captioning/blob/master/Eazydiner_Assignment.ipynb\" target=\"_parent\"><img src=\"https://colab.research.google.com/assets/colab-badge.svg\" alt=\"Open In Colab\"/></a>"
      ]
    },
    {
      "cell_type": "code",
      "metadata": {
        "id": "zC-FtZHTwZBu"
      },
      "source": [
        "#Importing the Libraries\n",
        "import numpy as np\n",
        "import pandas as pd\n",
        "import matplotlib.pyplot as plt\n",
        "import seaborn as sns\n",
        "import datetime as dt\n",
        "import missingno\n"
      ],
      "execution_count": 6,
      "outputs": []
    },
    {
      "cell_type": "code",
      "metadata": {
        "id": "WRsk0hj1ywUM"
      },
      "source": [
        "#Importing Dataset \n",
        "signup_data = pd.read_excel(\"/content/drive/MyDrive/Dataset /Sample_CUSTOMER_Dataset_2.xlsx\")\n",
        "booking_data = pd.read_excel(\"/content/drive/MyDrive/Dataset /Sample_BOOKINGS_Dataset_1.xlsx\")"
      ],
      "execution_count": 7,
      "outputs": []
    },
    {
      "cell_type": "code",
      "metadata": {
        "colab": {
          "base_uri": "https://localhost:8080/",
          "height": 195
        },
        "id": "bNGJjyorzQV9",
        "outputId": "c5ba84ab-bff5-45ec-9b0c-8fce6e33a9f1"
      },
      "source": [
        "booking_data.head()"
      ],
      "execution_count": 8,
      "outputs": [
        {
          "output_type": "execute_result",
          "data": {
            "text/html": [
              "<div>\n",
              "<style scoped>\n",
              "    .dataframe tbody tr th:only-of-type {\n",
              "        vertical-align: middle;\n",
              "    }\n",
              "\n",
              "    .dataframe tbody tr th {\n",
              "        vertical-align: top;\n",
              "    }\n",
              "\n",
              "    .dataframe thead th {\n",
              "        text-align: right;\n",
              "    }\n",
              "</style>\n",
              "<table border=\"1\" class=\"dataframe\">\n",
              "  <thead>\n",
              "    <tr style=\"text-align: right;\">\n",
              "      <th></th>\n",
              "      <th>date</th>\n",
              "      <th>medium</th>\n",
              "      <th>restaurant_name</th>\n",
              "      <th>location</th>\n",
              "      <th>cust_id</th>\n",
              "    </tr>\n",
              "  </thead>\n",
              "  <tbody>\n",
              "    <tr>\n",
              "      <th>0</th>\n",
              "      <td>2020-09-04</td>\n",
              "      <td>web</td>\n",
              "      <td>Spectra</td>\n",
              "      <td>The Leela Ambience, Gurgaon</td>\n",
              "      <td>5015431352112</td>\n",
              "    </tr>\n",
              "    <tr>\n",
              "      <th>1</th>\n",
              "      <td>2020-09-06</td>\n",
              "      <td>google</td>\n",
              "      <td>Barbeque Nation</td>\n",
              "      <td>Park Street Area, Kolkata</td>\n",
              "      <td>5015431352115</td>\n",
              "    </tr>\n",
              "    <tr>\n",
              "      <th>2</th>\n",
              "      <td>2020-09-01</td>\n",
              "      <td>google</td>\n",
              "      <td>Barbeque Nation</td>\n",
              "      <td>Ambience Mall, Gurgaon</td>\n",
              "      <td>5015431352121</td>\n",
              "    </tr>\n",
              "    <tr>\n",
              "      <th>3</th>\n",
              "      <td>2020-09-04</td>\n",
              "      <td>google</td>\n",
              "      <td>Barbeque Pride</td>\n",
              "      <td>Hitech City, Hyderabad</td>\n",
              "      <td>5015431352122</td>\n",
              "    </tr>\n",
              "    <tr>\n",
              "      <th>4</th>\n",
              "      <td>2020-09-06</td>\n",
              "      <td>google</td>\n",
              "      <td>Float Brewery</td>\n",
              "      <td>Kalyan Nagar, North Bengaluru</td>\n",
              "      <td>5015431352123</td>\n",
              "    </tr>\n",
              "  </tbody>\n",
              "</table>\n",
              "</div>"
            ],
            "text/plain": [
              "        date  medium  ...                       location        cust_id\n",
              "0 2020-09-04     web  ...    The Leela Ambience, Gurgaon  5015431352112\n",
              "1 2020-09-06  google  ...      Park Street Area, Kolkata  5015431352115\n",
              "2 2020-09-01  google  ...         Ambience Mall, Gurgaon  5015431352121\n",
              "3 2020-09-04  google  ...         Hitech City, Hyderabad  5015431352122\n",
              "4 2020-09-06  google  ...  Kalyan Nagar, North Bengaluru  5015431352123\n",
              "\n",
              "[5 rows x 5 columns]"
            ]
          },
          "metadata": {
            "tags": []
          },
          "execution_count": 8
        }
      ]
    },
    {
      "cell_type": "code",
      "metadata": {
        "colab": {
          "base_uri": "https://localhost:8080/",
          "height": 195
        },
        "id": "8IuL7_j8zU7S",
        "outputId": "bd66a6ef-d9f6-4b7c-eaf7-4aad3255f27b"
      },
      "source": [
        "signup_data.head()"
      ],
      "execution_count": 9,
      "outputs": [
        {
          "output_type": "execute_result",
          "data": {
            "text/html": [
              "<div>\n",
              "<style scoped>\n",
              "    .dataframe tbody tr th:only-of-type {\n",
              "        vertical-align: middle;\n",
              "    }\n",
              "\n",
              "    .dataframe tbody tr th {\n",
              "        vertical-align: top;\n",
              "    }\n",
              "\n",
              "    .dataframe thead th {\n",
              "        text-align: right;\n",
              "    }\n",
              "</style>\n",
              "<table border=\"1\" class=\"dataframe\">\n",
              "  <thead>\n",
              "    <tr style=\"text-align: right;\">\n",
              "      <th></th>\n",
              "      <th>cust_id</th>\n",
              "      <th>name</th>\n",
              "      <th>city</th>\n",
              "      <th>gender</th>\n",
              "      <th>AGE</th>\n",
              "      <th>medium</th>\n",
              "      <th>signup_date</th>\n",
              "    </tr>\n",
              "  </thead>\n",
              "  <tbody>\n",
              "    <tr>\n",
              "      <th>0</th>\n",
              "      <td>5015431352112</td>\n",
              "      <td>Juhi Agrawal</td>\n",
              "      <td>Delhi NCR</td>\n",
              "      <td>F</td>\n",
              "      <td>72</td>\n",
              "      <td>web</td>\n",
              "      <td>2020-09-01</td>\n",
              "    </tr>\n",
              "    <tr>\n",
              "      <th>1</th>\n",
              "      <td>5015431352113</td>\n",
              "      <td>Manish</td>\n",
              "      <td>Delhi NCR</td>\n",
              "      <td>M</td>\n",
              "      <td>45</td>\n",
              "      <td>android</td>\n",
              "      <td>2020-09-01</td>\n",
              "    </tr>\n",
              "    <tr>\n",
              "      <th>2</th>\n",
              "      <td>5015431352114</td>\n",
              "      <td>mani</td>\n",
              "      <td>Chennai</td>\n",
              "      <td>M</td>\n",
              "      <td>29</td>\n",
              "      <td>android</td>\n",
              "      <td>2020-09-01</td>\n",
              "    </tr>\n",
              "    <tr>\n",
              "      <th>3</th>\n",
              "      <td>5015431352115</td>\n",
              "      <td>Rija</td>\n",
              "      <td>Kolkata</td>\n",
              "      <td>F</td>\n",
              "      <td>60</td>\n",
              "      <td>google</td>\n",
              "      <td>2020-09-01</td>\n",
              "    </tr>\n",
              "    <tr>\n",
              "      <th>4</th>\n",
              "      <td>5015431352120</td>\n",
              "      <td>Bharath</td>\n",
              "      <td>NaN</td>\n",
              "      <td>M</td>\n",
              "      <td>32</td>\n",
              "      <td>google</td>\n",
              "      <td>2020-09-01</td>\n",
              "    </tr>\n",
              "  </tbody>\n",
              "</table>\n",
              "</div>"
            ],
            "text/plain": [
              "         cust_id          name       city gender  AGE   medium signup_date\n",
              "0  5015431352112  Juhi Agrawal  Delhi NCR      F   72      web  2020-09-01\n",
              "1  5015431352113        Manish  Delhi NCR      M   45  android  2020-09-01\n",
              "2  5015431352114          mani    Chennai      M   29  android  2020-09-01\n",
              "3  5015431352115          Rija    Kolkata      F   60   google  2020-09-01\n",
              "4  5015431352120       Bharath        NaN      M   32   google  2020-09-01"
            ]
          },
          "metadata": {
            "tags": []
          },
          "execution_count": 9
        }
      ]
    },
    {
      "cell_type": "code",
      "metadata": {
        "colab": {
          "base_uri": "https://localhost:8080/"
        },
        "id": "6HXSFmPwzeYy",
        "outputId": "42e85045-1764-4361-98da-4fd54d96062f"
      },
      "source": [
        "booking_data.info()"
      ],
      "execution_count": 11,
      "outputs": [
        {
          "output_type": "stream",
          "text": [
            "<class 'pandas.core.frame.DataFrame'>\n",
            "RangeIndex: 61333 entries, 0 to 61332\n",
            "Data columns (total 5 columns):\n",
            " #   Column           Non-Null Count  Dtype         \n",
            "---  ------           --------------  -----         \n",
            " 0   date             61333 non-null  datetime64[ns]\n",
            " 1   medium           61333 non-null  object        \n",
            " 2   restaurant_name  61333 non-null  object        \n",
            " 3   location         61333 non-null  object        \n",
            " 4   cust_id          61333 non-null  int64         \n",
            "dtypes: datetime64[ns](1), int64(1), object(3)\n",
            "memory usage: 2.3+ MB\n"
          ],
          "name": "stdout"
        }
      ]
    },
    {
      "cell_type": "code",
      "metadata": {
        "colab": {
          "base_uri": "https://localhost:8080/"
        },
        "id": "eX0MAipnzxv5",
        "outputId": "feaddaae-8c60-4873-ae3d-170ea7635582"
      },
      "source": [
        "signup_data.info()"
      ],
      "execution_count": 12,
      "outputs": [
        {
          "output_type": "stream",
          "text": [
            "<class 'pandas.core.frame.DataFrame'>\n",
            "RangeIndex: 98354 entries, 0 to 98353\n",
            "Data columns (total 7 columns):\n",
            " #   Column       Non-Null Count  Dtype         \n",
            "---  ------       --------------  -----         \n",
            " 0   cust_id      98354 non-null  int64         \n",
            " 1   name         92756 non-null  object        \n",
            " 2   city         80621 non-null  object        \n",
            " 3   gender       4700 non-null   object        \n",
            " 4   AGE          98354 non-null  int64         \n",
            " 5   medium       98354 non-null  object        \n",
            " 6   signup_date  98354 non-null  datetime64[ns]\n",
            "dtypes: datetime64[ns](1), int64(2), object(4)\n",
            "memory usage: 5.3+ MB\n"
          ],
          "name": "stdout"
        }
      ]
    },
    {
      "cell_type": "code",
      "metadata": {
        "id": "cbdwUc3S0L7n"
      },
      "source": [
        "#Merging Both the dataset into one dataframe on cust_id column using outer join \n",
        "Merged_data = pd.merge(left=booking_data, right=signup_data, how='outer', left_on='cust_id', right_on='cust_id')"
      ],
      "execution_count": 13,
      "outputs": []
    },
    {
      "cell_type": "code",
      "metadata": {
        "colab": {
          "base_uri": "https://localhost:8080/",
          "height": 279
        },
        "id": "vrVBV4U91Kbp",
        "outputId": "9f988eaa-0dd5-4311-eeeb-cd8564e73c01"
      },
      "source": [
        "Merged_data.head()"
      ],
      "execution_count": 14,
      "outputs": [
        {
          "output_type": "execute_result",
          "data": {
            "text/html": [
              "<div>\n",
              "<style scoped>\n",
              "    .dataframe tbody tr th:only-of-type {\n",
              "        vertical-align: middle;\n",
              "    }\n",
              "\n",
              "    .dataframe tbody tr th {\n",
              "        vertical-align: top;\n",
              "    }\n",
              "\n",
              "    .dataframe thead th {\n",
              "        text-align: right;\n",
              "    }\n",
              "</style>\n",
              "<table border=\"1\" class=\"dataframe\">\n",
              "  <thead>\n",
              "    <tr style=\"text-align: right;\">\n",
              "      <th></th>\n",
              "      <th>date</th>\n",
              "      <th>medium_x</th>\n",
              "      <th>restaurant_name</th>\n",
              "      <th>location</th>\n",
              "      <th>cust_id</th>\n",
              "      <th>name</th>\n",
              "      <th>city</th>\n",
              "      <th>gender</th>\n",
              "      <th>AGE</th>\n",
              "      <th>medium_y</th>\n",
              "      <th>signup_date</th>\n",
              "    </tr>\n",
              "  </thead>\n",
              "  <tbody>\n",
              "    <tr>\n",
              "      <th>0</th>\n",
              "      <td>2020-09-04</td>\n",
              "      <td>web</td>\n",
              "      <td>Spectra</td>\n",
              "      <td>The Leela Ambience, Gurgaon</td>\n",
              "      <td>5015431352112</td>\n",
              "      <td>Juhi Agrawal</td>\n",
              "      <td>Delhi NCR</td>\n",
              "      <td>F</td>\n",
              "      <td>72</td>\n",
              "      <td>web</td>\n",
              "      <td>2020-09-01</td>\n",
              "    </tr>\n",
              "    <tr>\n",
              "      <th>1</th>\n",
              "      <td>2020-09-06</td>\n",
              "      <td>google</td>\n",
              "      <td>Barbeque Nation</td>\n",
              "      <td>Park Street Area, Kolkata</td>\n",
              "      <td>5015431352115</td>\n",
              "      <td>Rija</td>\n",
              "      <td>Kolkata</td>\n",
              "      <td>F</td>\n",
              "      <td>60</td>\n",
              "      <td>google</td>\n",
              "      <td>2020-09-01</td>\n",
              "    </tr>\n",
              "    <tr>\n",
              "      <th>2</th>\n",
              "      <td>2020-09-01</td>\n",
              "      <td>google</td>\n",
              "      <td>Barbeque Nation</td>\n",
              "      <td>Ambience Mall, Gurgaon</td>\n",
              "      <td>5015431352121</td>\n",
              "      <td>Aparna</td>\n",
              "      <td>Delhi NCR</td>\n",
              "      <td>F</td>\n",
              "      <td>27</td>\n",
              "      <td>google</td>\n",
              "      <td>2020-09-01</td>\n",
              "    </tr>\n",
              "    <tr>\n",
              "      <th>3</th>\n",
              "      <td>2020-09-04</td>\n",
              "      <td>google</td>\n",
              "      <td>Barbeque Pride</td>\n",
              "      <td>Hitech City, Hyderabad</td>\n",
              "      <td>5015431352122</td>\n",
              "      <td>Pavan Sai Chandra</td>\n",
              "      <td>Hyderabad</td>\n",
              "      <td>M</td>\n",
              "      <td>69</td>\n",
              "      <td>google</td>\n",
              "      <td>2020-09-01</td>\n",
              "    </tr>\n",
              "    <tr>\n",
              "      <th>4</th>\n",
              "      <td>2020-09-06</td>\n",
              "      <td>google</td>\n",
              "      <td>Float Brewery</td>\n",
              "      <td>Kalyan Nagar, North Bengaluru</td>\n",
              "      <td>5015431352123</td>\n",
              "      <td>Vaseem</td>\n",
              "      <td>Bengaluru</td>\n",
              "      <td>M</td>\n",
              "      <td>38</td>\n",
              "      <td>google</td>\n",
              "      <td>2020-09-01</td>\n",
              "    </tr>\n",
              "  </tbody>\n",
              "</table>\n",
              "</div>"
            ],
            "text/plain": [
              "        date medium_x  restaurant_name  ... AGE  medium_y signup_date\n",
              "0 2020-09-04      web          Spectra  ...  72       web  2020-09-01\n",
              "1 2020-09-06   google  Barbeque Nation  ...  60    google  2020-09-01\n",
              "2 2020-09-01   google  Barbeque Nation  ...  27    google  2020-09-01\n",
              "3 2020-09-04   google   Barbeque Pride  ...  69    google  2020-09-01\n",
              "4 2020-09-06   google    Float Brewery  ...  38    google  2020-09-01\n",
              "\n",
              "[5 rows x 11 columns]"
            ]
          },
          "metadata": {
            "tags": []
          },
          "execution_count": 14
        }
      ]
    },
    {
      "cell_type": "code",
      "metadata": {
        "colab": {
          "base_uri": "https://localhost:8080/"
        },
        "id": "JSRuR6m32Htb",
        "outputId": "f0480546-7e7c-4092-d859-9ed42fc511f8"
      },
      "source": [
        "Merged_data.shape"
      ],
      "execution_count": 22,
      "outputs": [
        {
          "output_type": "execute_result",
          "data": {
            "text/plain": [
              "(98354, 11)"
            ]
          },
          "metadata": {
            "tags": []
          },
          "execution_count": 22
        }
      ]
    },
    {
      "cell_type": "code",
      "metadata": {
        "colab": {
          "base_uri": "https://localhost:8080/"
        },
        "id": "OHT3z0R-1Uco",
        "outputId": "8fc222ef-e83f-477a-cb56-b90bae1f276f"
      },
      "source": [
        "Merged_data.info()"
      ],
      "execution_count": 15,
      "outputs": [
        {
          "output_type": "stream",
          "text": [
            "<class 'pandas.core.frame.DataFrame'>\n",
            "Int64Index: 98354 entries, 0 to 98353\n",
            "Data columns (total 11 columns):\n",
            " #   Column           Non-Null Count  Dtype         \n",
            "---  ------           --------------  -----         \n",
            " 0   date             61333 non-null  datetime64[ns]\n",
            " 1   medium_x         61333 non-null  object        \n",
            " 2   restaurant_name  61333 non-null  object        \n",
            " 3   location         61333 non-null  object        \n",
            " 4   cust_id          98354 non-null  int64         \n",
            " 5   name             92756 non-null  object        \n",
            " 6   city             80621 non-null  object        \n",
            " 7   gender           4700 non-null   object        \n",
            " 8   AGE              98354 non-null  int64         \n",
            " 9   medium_y         98354 non-null  object        \n",
            " 10  signup_date      98354 non-null  datetime64[ns]\n",
            "dtypes: datetime64[ns](2), int64(2), object(7)\n",
            "memory usage: 9.0+ MB\n"
          ],
          "name": "stdout"
        }
      ]
    },
    {
      "cell_type": "code",
      "metadata": {
        "colab": {
          "base_uri": "https://localhost:8080/"
        },
        "id": "kHQjmika1Z4_",
        "outputId": "b0e433ac-f1c6-40cc-a4ab-e681281fa250"
      },
      "source": [
        "#Checking Missing Value\n",
        "print(Merged_data.isnull().any())\n",
        "print(\"Count of Missing Value in each columns/feature\")\n",
        "print(Merged_data.isnull().sum())"
      ],
      "execution_count": 21,
      "outputs": [
        {
          "output_type": "stream",
          "text": [
            "date                True\n",
            "medium_x            True\n",
            "restaurant_name     True\n",
            "location            True\n",
            "cust_id            False\n",
            "name                True\n",
            "city                True\n",
            "gender              True\n",
            "AGE                False\n",
            "medium_y           False\n",
            "signup_date        False\n",
            "dtype: bool\n",
            "Count of Missing Value in each columns/feature\n",
            "date               37021\n",
            "medium_x           37021\n",
            "restaurant_name    37021\n",
            "location           37021\n",
            "cust_id                0\n",
            "name                5598\n",
            "city               17733\n",
            "gender             93654\n",
            "AGE                    0\n",
            "medium_y               0\n",
            "signup_date            0\n",
            "dtype: int64\n"
          ],
          "name": "stdout"
        }
      ]
    },
    {
      "cell_type": "code",
      "metadata": {
        "colab": {
          "base_uri": "https://localhost:8080/",
          "height": 47
        },
        "id": "ZJhrBmGa2koq",
        "outputId": "43fde159-6094-405a-b037-954ed94e6e85"
      },
      "source": [
        "#Eliminating duplicate rows after merging\n",
        "Merged_data[Merged_data.duplicated(keep = 'first' , subset = ['cust_id'])]"
      ],
      "execution_count": 23,
      "outputs": [
        {
          "output_type": "execute_result",
          "data": {
            "text/html": [
              "<div>\n",
              "<style scoped>\n",
              "    .dataframe tbody tr th:only-of-type {\n",
              "        vertical-align: middle;\n",
              "    }\n",
              "\n",
              "    .dataframe tbody tr th {\n",
              "        vertical-align: top;\n",
              "    }\n",
              "\n",
              "    .dataframe thead th {\n",
              "        text-align: right;\n",
              "    }\n",
              "</style>\n",
              "<table border=\"1\" class=\"dataframe\">\n",
              "  <thead>\n",
              "    <tr style=\"text-align: right;\">\n",
              "      <th></th>\n",
              "      <th>date</th>\n",
              "      <th>medium_x</th>\n",
              "      <th>restaurant_name</th>\n",
              "      <th>location</th>\n",
              "      <th>cust_id</th>\n",
              "      <th>name</th>\n",
              "      <th>city</th>\n",
              "      <th>gender</th>\n",
              "      <th>AGE</th>\n",
              "      <th>medium_y</th>\n",
              "      <th>signup_date</th>\n",
              "    </tr>\n",
              "  </thead>\n",
              "  <tbody>\n",
              "  </tbody>\n",
              "</table>\n",
              "</div>"
            ],
            "text/plain": [
              "Empty DataFrame\n",
              "Columns: [date, medium_x, restaurant_name, location, cust_id, name, city, gender, AGE, medium_y, signup_date]\n",
              "Index: []"
            ]
          },
          "metadata": {
            "tags": []
          },
          "execution_count": 23
        }
      ]
    },
    {
      "cell_type": "code",
      "metadata": {
        "colab": {
          "base_uri": "https://localhost:8080/"
        },
        "id": "2ZoQfdGh3KpV",
        "outputId": "82baf6ed-754c-472c-a834-e568a36b9175"
      },
      "source": [
        "Merged_data.info()"
      ],
      "execution_count": 25,
      "outputs": [
        {
          "output_type": "stream",
          "text": [
            "<class 'pandas.core.frame.DataFrame'>\n",
            "Int64Index: 98354 entries, 0 to 98353\n",
            "Data columns (total 11 columns):\n",
            " #   Column           Non-Null Count  Dtype         \n",
            "---  ------           --------------  -----         \n",
            " 0   date             61333 non-null  datetime64[ns]\n",
            " 1   medium_x         61333 non-null  object        \n",
            " 2   restaurant_name  61333 non-null  object        \n",
            " 3   location         61333 non-null  object        \n",
            " 4   cust_id          98354 non-null  int64         \n",
            " 5   name             92756 non-null  object        \n",
            " 6   city             80621 non-null  object        \n",
            " 7   gender           4700 non-null   object        \n",
            " 8   AGE              98354 non-null  int64         \n",
            " 9   medium_y         98354 non-null  object        \n",
            " 10  signup_date      98354 non-null  datetime64[ns]\n",
            "dtypes: datetime64[ns](2), int64(2), object(7)\n",
            "memory usage: 9.0+ MB\n"
          ],
          "name": "stdout"
        }
      ]
    },
    {
      "cell_type": "code",
      "metadata": {
        "id": "w_8OESaA4p1X"
      },
      "source": [
        "Merged_data.sort_values(by=['cust_id'], inplace=True)\n",
        "Merged_data.reset_index(drop=True, inplace=True)"
      ],
      "execution_count": null,
      "outputs": []
    },
    {
      "cell_type": "code",
      "metadata": {
        "colab": {
          "base_uri": "https://localhost:8080/"
        },
        "id": "TWlrjumt4xmG",
        "outputId": "a3d860f8-7056-4238-faa3-471de896dbd9"
      },
      "source": [
        "Merged_data.isnull().sum()"
      ],
      "execution_count": 29,
      "outputs": [
        {
          "output_type": "execute_result",
          "data": {
            "text/plain": [
              "date               37021\n",
              "medium_x           37021\n",
              "restaurant_name    37021\n",
              "location           37021\n",
              "cust_id                0\n",
              "name                5598\n",
              "city               17733\n",
              "gender             93654\n",
              "AGE                    0\n",
              "medium_y               0\n",
              "signup_date            0\n",
              "dtype: int64"
            ]
          },
          "metadata": {
            "tags": []
          },
          "execution_count": 29
        }
      ]
    },
    {
      "cell_type": "code",
      "metadata": {
        "colab": {
          "base_uri": "https://localhost:8080/",
          "height": 447
        },
        "id": "8M96VQQi3dWx",
        "outputId": "15681184-c317-46a7-bc8d-01627b5f8fb6"
      },
      "source": [
        "missingno.matrix(Merged_data,figsize=(10,5))"
      ],
      "execution_count": 28,
      "outputs": [
        {
          "output_type": "execute_result",
          "data": {
            "text/plain": [
              "<matplotlib.axes._subplots.AxesSubplot at 0x7fba5cb38850>"
            ]
          },
          "metadata": {
            "tags": []
          },
          "execution_count": 28
        },
        {
          "output_type": "display_data",
          "data": {
            "image/png": "[encoded data removed]",
            "text/plain": [
              "<Figure size 720x360 with 2 Axes>"
            ]
          },
          "metadata": {
            "tags": [],
            "needs_background": "light"
          }
        }
      ]
    },
    {
      "cell_type": "markdown",
      "metadata": {
        "id": "J5Wr9zmC39nV"
      },
      "source": [
        "#    Observations \n",
        " 1) There are missing values in columns except cust_id,AGE,medium_y and signup_date\n"
      ]
    },
    {
      "cell_type": "markdown",
      "metadata": {
        "id": "GmCgx1Pj7JP7"
      },
      "source": [
        "2) Number of Missing value in column Gender is very high . so We will drop this column\n",
        "\n"
      ]
    },
    {
      "cell_type": "markdown",
      "metadata": {
        "id": "0580Emsz7S3t"
      },
      "source": [
        "3)The columns medium_x and medium_y are same for a particular customer, but some values are missing in medium_x so we can replace those missing values with the values in medium_y.\n",
        "After creating new column \"medium\" . medium_x and medium_y become redundant. So we will drop these columns too. "
      ]
    },
    {
      "cell_type": "code",
      "metadata": {
        "id": "Q7GcpNaO9jy7"
      },
      "source": [
        "Merged_data.drop(\"gender\",axis=1 , inplace=True)"
      ],
      "execution_count": 36,
      "outputs": []
    },
    {
      "cell_type": "code",
      "metadata": {
        "id": "mHhZDi3Z7Ugf"
      },
      "source": [
        "#Creating a new column medium which contains all the values in medium_x after filling missing values\n",
        "Merged_data['medium']= Merged_data['medium_x'].fillna(Merged_data['medium_y'])"
      ],
      "execution_count": 31,
      "outputs": []
    },
    {
      "cell_type": "code",
      "metadata": {
        "id": "6a8ExZ1g-pS1"
      },
      "source": [
        "Merged_data.drop(labels=[\"medium_x\",\"medium_y\"],axis=1,inplace=True)"
      ],
      "execution_count": 40,
      "outputs": []
    },
    {
      "cell_type": "code",
      "metadata": {
        "colab": {
          "base_uri": "https://localhost:8080/",
          "height": 136
        },
        "id": "zuZDz9Wi8VE4",
        "outputId": "bdfdcddb-495d-4286-8ed8-6a1f55bac5ef"
      },
      "source": [
        "Merged_data.head(3)"
      ],
      "execution_count": 41,
      "outputs": [
        {
          "output_type": "execute_result",
          "data": {
            "text/html": [
              "<div>\n",
              "<style scoped>\n",
              "    .dataframe tbody tr th:only-of-type {\n",
              "        vertical-align: middle;\n",
              "    }\n",
              "\n",
              "    .dataframe tbody tr th {\n",
              "        vertical-align: top;\n",
              "    }\n",
              "\n",
              "    .dataframe thead th {\n",
              "        text-align: right;\n",
              "    }\n",
              "</style>\n",
              "<table border=\"1\" class=\"dataframe\">\n",
              "  <thead>\n",
              "    <tr style=\"text-align: right;\">\n",
              "      <th></th>\n",
              "      <th>date</th>\n",
              "      <th>restaurant_name</th>\n",
              "      <th>location</th>\n",
              "      <th>cust_id</th>\n",
              "      <th>name</th>\n",
              "      <th>city</th>\n",
              "      <th>AGE</th>\n",
              "      <th>signup_date</th>\n",
              "      <th>medium</th>\n",
              "    </tr>\n",
              "  </thead>\n",
              "  <tbody>\n",
              "    <tr>\n",
              "      <th>0</th>\n",
              "      <td>2020-09-04</td>\n",
              "      <td>Spectra</td>\n",
              "      <td>The Leela Ambience, Gurgaon</td>\n",
              "      <td>5015431352112</td>\n",
              "      <td>Juhi Agrawal</td>\n",
              "      <td>Delhi NCR</td>\n",
              "      <td>72</td>\n",
              "      <td>2020-09-01</td>\n",
              "      <td>web</td>\n",
              "    </tr>\n",
              "    <tr>\n",
              "      <th>1</th>\n",
              "      <td>NaT</td>\n",
              "      <td>NaN</td>\n",
              "      <td>NaN</td>\n",
              "      <td>5015431352113</td>\n",
              "      <td>Manish</td>\n",
              "      <td>Delhi NCR</td>\n",
              "      <td>45</td>\n",
              "      <td>2020-09-01</td>\n",
              "      <td>android</td>\n",
              "    </tr>\n",
              "    <tr>\n",
              "      <th>2</th>\n",
              "      <td>NaT</td>\n",
              "      <td>NaN</td>\n",
              "      <td>NaN</td>\n",
              "      <td>5015431352114</td>\n",
              "      <td>mani</td>\n",
              "      <td>Chennai</td>\n",
              "      <td>29</td>\n",
              "      <td>2020-09-01</td>\n",
              "      <td>android</td>\n",
              "    </tr>\n",
              "  </tbody>\n",
              "</table>\n",
              "</div>"
            ],
            "text/plain": [
              "        date restaurant_name  ... signup_date   medium\n",
              "0 2020-09-04         Spectra  ...  2020-09-01      web\n",
              "1        NaT             NaN  ...  2020-09-01  android\n",
              "2        NaT             NaN  ...  2020-09-01  android\n",
              "\n",
              "[3 rows x 9 columns]"
            ]
          },
          "metadata": {
            "tags": []
          },
          "execution_count": 41
        }
      ]
    },
    {
      "cell_type": "code",
      "metadata": {
        "id": "1OALbHYo8YSU"
      },
      "source": [
        "##Creating new_column \"Duration\" denotes difference in booking_date and signup_date \n",
        "from datetime import timedelta\n",
        "Merged_data['Duration'] = Merged_data['date']-Merged_data['signup_date']\n",
        "Merged_data['Duration'] = Merged_data['Duration']/timedelta(days=1)"
      ],
      "execution_count": 43,
      "outputs": []
    },
    {
      "cell_type": "code",
      "metadata": {
        "id": "-4fNneaqBtgn"
      },
      "source": [
        "##As we created a new column based on date and signup_date. These columns become reduntant so , we will drop these columns\n",
        "Merged_data.drop(labels=[\"date\",\"signup_date\"],axis=1,inplace=True)"
      ],
      "execution_count": 46,
      "outputs": []
    },
    {
      "cell_type": "code",
      "metadata": {
        "colab": {
          "base_uri": "https://localhost:8080/",
          "height": 195
        },
        "id": "qDKDCrvwBh74",
        "outputId": "faff977a-6eb7-4de7-d574-5842590560fb"
      },
      "source": [
        "Merged_data.head()"
      ],
      "execution_count": 47,
      "outputs": [
        {
          "output_type": "execute_result",
          "data": {
            "text/html": [
              "<div>\n",
              "<style scoped>\n",
              "    .dataframe tbody tr th:only-of-type {\n",
              "        vertical-align: middle;\n",
              "    }\n",
              "\n",
              "    .dataframe tbody tr th {\n",
              "        vertical-align: top;\n",
              "    }\n",
              "\n",
              "    .dataframe thead th {\n",
              "        text-align: right;\n",
              "    }\n",
              "</style>\n",
              "<table border=\"1\" class=\"dataframe\">\n",
              "  <thead>\n",
              "    <tr style=\"text-align: right;\">\n",
              "      <th></th>\n",
              "      <th>restaurant_name</th>\n",
              "      <th>location</th>\n",
              "      <th>cust_id</th>\n",
              "      <th>name</th>\n",
              "      <th>city</th>\n",
              "      <th>AGE</th>\n",
              "      <th>medium</th>\n",
              "      <th>Duration</th>\n",
              "    </tr>\n",
              "  </thead>\n",
              "  <tbody>\n",
              "    <tr>\n",
              "      <th>0</th>\n",
              "      <td>Spectra</td>\n",
              "      <td>The Leela Ambience, Gurgaon</td>\n",
              "      <td>5015431352112</td>\n",
              "      <td>Juhi Agrawal</td>\n",
              "      <td>Delhi NCR</td>\n",
              "      <td>72</td>\n",
              "      <td>web</td>\n",
              "      <td>3.0</td>\n",
              "    </tr>\n",
              "    <tr>\n",
              "      <th>1</th>\n",
              "      <td>NaN</td>\n",
              "      <td>NaN</td>\n",
              "      <td>5015431352113</td>\n",
              "      <td>Manish</td>\n",
              "      <td>Delhi NCR</td>\n",
              "      <td>45</td>\n",
              "      <td>android</td>\n",
              "      <td>NaN</td>\n",
              "    </tr>\n",
              "    <tr>\n",
              "      <th>2</th>\n",
              "      <td>NaN</td>\n",
              "      <td>NaN</td>\n",
              "      <td>5015431352114</td>\n",
              "      <td>mani</td>\n",
              "      <td>Chennai</td>\n",
              "      <td>29</td>\n",
              "      <td>android</td>\n",
              "      <td>NaN</td>\n",
              "    </tr>\n",
              "    <tr>\n",
              "      <th>3</th>\n",
              "      <td>Barbeque Nation</td>\n",
              "      <td>Park Street Area, Kolkata</td>\n",
              "      <td>5015431352115</td>\n",
              "      <td>Rija</td>\n",
              "      <td>Kolkata</td>\n",
              "      <td>60</td>\n",
              "      <td>google</td>\n",
              "      <td>5.0</td>\n",
              "    </tr>\n",
              "    <tr>\n",
              "      <th>4</th>\n",
              "      <td>NaN</td>\n",
              "      <td>NaN</td>\n",
              "      <td>5015431352120</td>\n",
              "      <td>Bharath</td>\n",
              "      <td>NaN</td>\n",
              "      <td>32</td>\n",
              "      <td>google</td>\n",
              "      <td>NaN</td>\n",
              "    </tr>\n",
              "  </tbody>\n",
              "</table>\n",
              "</div>"
            ],
            "text/plain": [
              "   restaurant_name                     location  ...   medium Duration\n",
              "0          Spectra  The Leela Ambience, Gurgaon  ...      web      3.0\n",
              "1              NaN                          NaN  ...  android      NaN\n",
              "2              NaN                          NaN  ...  android      NaN\n",
              "3  Barbeque Nation    Park Street Area, Kolkata  ...   google      5.0\n",
              "4              NaN                          NaN  ...   google      NaN\n",
              "\n",
              "[5 rows x 8 columns]"
            ]
          },
          "metadata": {
            "tags": []
          },
          "execution_count": 47
        }
      ]
    },
    {
      "cell_type": "markdown",
      "metadata": {
        "id": "7g4l6elPCxv3"
      },
      "source": [
        "Based on the 'Duration' column we will create a new column 'Booked_status' which will denote whether a customer has done the booking within 7 days of signing up or not"
      ]
    },
    {
      "cell_type": "code",
      "metadata": {
        "id": "KPw_rXsjCz7H"
      },
      "source": [
        "# 0 - customers who have not booked after signup or those who have not booked within 7 days\n",
        "# 1 - customers who have booked within 7 days \n",
        "Merged_data['Booked_status']= np.where(Merged_data['Duration']>7,0, np.where(Merged_data['Duration'].isnull(), 0, 1))"
      ],
      "execution_count": 48,
      "outputs": []
    },
    {
      "cell_type": "code",
      "metadata": {
        "colab": {
          "base_uri": "https://localhost:8080/",
          "height": 195
        },
        "id": "BJCqWW5HEMLi",
        "outputId": "d114370d-e1e5-489a-d09f-200d915e6868"
      },
      "source": [
        "Merged_data.head()"
      ],
      "execution_count": 49,
      "outputs": [
        {
          "output_type": "execute_result",
          "data": {
            "text/html": [
              "<div>\n",
              "<style scoped>\n",
              "    .dataframe tbody tr th:only-of-type {\n",
              "        vertical-align: middle;\n",
              "    }\n",
              "\n",
              "    .dataframe tbody tr th {\n",
              "        vertical-align: top;\n",
              "    }\n",
              "\n",
              "    .dataframe thead th {\n",
              "        text-align: right;\n",
              "    }\n",
              "</style>\n",
              "<table border=\"1\" class=\"dataframe\">\n",
              "  <thead>\n",
              "    <tr style=\"text-align: right;\">\n",
              "      <th></th>\n",
              "      <th>restaurant_name</th>\n",
              "      <th>location</th>\n",
              "      <th>cust_id</th>\n",
              "      <th>name</th>\n",
              "      <th>city</th>\n",
              "      <th>AGE</th>\n",
              "      <th>medium</th>\n",
              "      <th>Duration</th>\n",
              "      <th>Booked_status</th>\n",
              "    </tr>\n",
              "  </thead>\n",
              "  <tbody>\n",
              "    <tr>\n",
              "      <th>0</th>\n",
              "      <td>Spectra</td>\n",
              "      <td>The Leela Ambience, Gurgaon</td>\n",
              "      <td>5015431352112</td>\n",
              "      <td>Juhi Agrawal</td>\n",
              "      <td>Delhi NCR</td>\n",
              "      <td>72</td>\n",
              "      <td>web</td>\n",
              "      <td>3.0</td>\n",
              "      <td>1</td>\n",
              "    </tr>\n",
              "    <tr>\n",
              "      <th>1</th>\n",
              "      <td>NaN</td>\n",
              "      <td>NaN</td>\n",
              "      <td>5015431352113</td>\n",
              "      <td>Manish</td>\n",
              "      <td>Delhi NCR</td>\n",
              "      <td>45</td>\n",
              "      <td>android</td>\n",
              "      <td>NaN</td>\n",
              "      <td>0</td>\n",
              "    </tr>\n",
              "    <tr>\n",
              "      <th>2</th>\n",
              "      <td>NaN</td>\n",
              "      <td>NaN</td>\n",
              "      <td>5015431352114</td>\n",
              "      <td>mani</td>\n",
              "      <td>Chennai</td>\n",
              "      <td>29</td>\n",
              "      <td>android</td>\n",
              "      <td>NaN</td>\n",
              "      <td>0</td>\n",
              "    </tr>\n",
              "    <tr>\n",
              "      <th>3</th>\n",
              "      <td>Barbeque Nation</td>\n",
              "      <td>Park Street Area, Kolkata</td>\n",
              "      <td>5015431352115</td>\n",
              "      <td>Rija</td>\n",
              "      <td>Kolkata</td>\n",
              "      <td>60</td>\n",
              "      <td>google</td>\n",
              "      <td>5.0</td>\n",
              "      <td>1</td>\n",
              "    </tr>\n",
              "    <tr>\n",
              "      <th>4</th>\n",
              "      <td>NaN</td>\n",
              "      <td>NaN</td>\n",
              "      <td>5015431352120</td>\n",
              "      <td>Bharath</td>\n",
              "      <td>NaN</td>\n",
              "      <td>32</td>\n",
              "      <td>google</td>\n",
              "      <td>NaN</td>\n",
              "      <td>0</td>\n",
              "    </tr>\n",
              "  </tbody>\n",
              "</table>\n",
              "</div>"
            ],
            "text/plain": [
              "   restaurant_name                     location  ...  Duration Booked_status\n",
              "0          Spectra  The Leela Ambience, Gurgaon  ...       3.0             1\n",
              "1              NaN                          NaN  ...       NaN             0\n",
              "2              NaN                          NaN  ...       NaN             0\n",
              "3  Barbeque Nation    Park Street Area, Kolkata  ...       5.0             1\n",
              "4              NaN                          NaN  ...       NaN             0\n",
              "\n",
              "[5 rows x 9 columns]"
            ]
          },
          "metadata": {
            "tags": []
          },
          "execution_count": 49
        }
      ]
    },
    {
      "cell_type": "code",
      "metadata": {
        "colab": {
          "base_uri": "https://localhost:8080/"
        },
        "id": "I2SuguKZEjK9",
        "outputId": "333a5d39-8ca7-4876-be68-8341d3214778"
      },
      "source": [
        "Merged_data.isnull().sum()"
      ],
      "execution_count": 51,
      "outputs": [
        {
          "output_type": "execute_result",
          "data": {
            "text/plain": [
              "restaurant_name    37021\n",
              "location           37021\n",
              "cust_id                0\n",
              "name                5598\n",
              "city               17733\n",
              "AGE                    0\n",
              "medium                 0\n",
              "Duration           37021\n",
              "Booked_status          0\n",
              "dtype: int64"
            ]
          },
          "metadata": {
            "tags": []
          },
          "execution_count": 51
        }
      ]
    },
    {
      "cell_type": "code",
      "metadata": {
        "colab": {
          "base_uri": "https://localhost:8080/",
          "height": 447
        },
        "id": "rD8K_8IIEaCb",
        "outputId": "14b06a02-b3d5-4233-be1c-e4f59da4ff5e"
      },
      "source": [
        "missingno.matrix(Merged_data,figsize=(10,5))"
      ],
      "execution_count": 50,
      "outputs": [
        {
          "output_type": "execute_result",
          "data": {
            "text/plain": [
              "<matplotlib.axes._subplots.AxesSubplot at 0x7fba5bacb9d0>"
            ]
          },
          "metadata": {
            "tags": []
          },
          "execution_count": 50
        },
        {
          "output_type": "display_data",
          "data": {
            "image/png": "[encoded data removed]",
            "text/plain": [
              "<Figure size 720x360 with 2 Axes>"
            ]
          },
          "metadata": {
            "tags": [],
            "needs_background": "light"
          }
        }
      ]
    },
    {
      "cell_type": "markdown",
      "metadata": {
        "id": "EHWeEnbtHKZ1"
      },
      "source": [
        "1) We can see that the number of missing values in all the 3 columns 'restaurant_name', 'location' and 'duration' are same which makes sense because there are missing values in the 'duration' column for those customers who have not done booking after signing up and hence the restaurant_name and location will also be not there in the records for such customers and hence the value under column 'Booked' will be 0 for all of them."
      ]
    },
    {
      "cell_type": "markdown",
      "metadata": {
        "id": "kAOYt5H-HmPN"
      },
      "source": [
        "2) So we can infer that these missing values are directly related to the 'Booked' column. So we need to take care of these missing values as we cannot directly drop them."
      ]
    },
    {
      "cell_type": "markdown",
      "metadata": {
        "id": "TFi2pSJIInQL"
      },
      "source": [
        "3) We can fill number greater that 7 in 'Duration' column to replace null value so that 'booked_status' value is maintained at 0."
      ]
    },
    {
      "cell_type": "code",
      "metadata": {
        "id": "kWN6kVfyJKce"
      },
      "source": [
        "#Replacing null values with 8 in 'duration'.\n",
        "Merged_data['Duration'] = Merged_data['Duration'].fillna(8).astype(int)"
      ],
      "execution_count": 57,
      "outputs": []
    },
    {
      "cell_type": "code",
      "metadata": {
        "id": "NVELNTVTJc_r"
      },
      "source": [
        "#Replacing null values in 'restaurant_name' with a new category 'restaurant_name_null'.\n",
        "Merged_data['restaurant_name'] = Merged_data['restaurant_name'].fillna('restaurant_name_null')"
      ],
      "execution_count": 58,
      "outputs": []
    },
    {
      "cell_type": "code",
      "metadata": {
        "id": "xKNtEa9nJtaY"
      },
      "source": [
        "#Replacing null values in 'location' with a new category 'location_null'.\n",
        "Merged_data['location'] = Merged_data['location'].fillna('location_null')"
      ],
      "execution_count": 59,
      "outputs": []
    },
    {
      "cell_type": "code",
      "metadata": {
        "id": "7HL2ge9nKNLR"
      },
      "source": [
        "##Replacing null values in 'city' with a new category 'city_null'.\n",
        "Merged_data['city'] = Merged_data['city'].fillna('city_null')"
      ],
      "execution_count": 62,
      "outputs": []
    },
    {
      "cell_type": "code",
      "metadata": {
        "colab": {
          "base_uri": "https://localhost:8080/",
          "height": 195
        },
        "id": "vvJPmDZjJuuw",
        "outputId": "e7379a59-30cc-4df8-ca8b-ab56ee77f448"
      },
      "source": [
        "Merged_data.head()"
      ],
      "execution_count": 60,
      "outputs": [
        {
          "output_type": "execute_result",
          "data": {
            "text/html": [
              "<div>\n",
              "<style scoped>\n",
              "    .dataframe tbody tr th:only-of-type {\n",
              "        vertical-align: middle;\n",
              "    }\n",
              "\n",
              "    .dataframe tbody tr th {\n",
              "        vertical-align: top;\n",
              "    }\n",
              "\n",
              "    .dataframe thead th {\n",
              "        text-align: right;\n",
              "    }\n",
              "</style>\n",
              "<table border=\"1\" class=\"dataframe\">\n",
              "  <thead>\n",
              "    <tr style=\"text-align: right;\">\n",
              "      <th></th>\n",
              "      <th>restaurant_name</th>\n",
              "      <th>location</th>\n",
              "      <th>cust_id</th>\n",
              "      <th>name</th>\n",
              "      <th>city</th>\n",
              "      <th>AGE</th>\n",
              "      <th>medium</th>\n",
              "      <th>Duration</th>\n",
              "      <th>Booked_status</th>\n",
              "    </tr>\n",
              "  </thead>\n",
              "  <tbody>\n",
              "    <tr>\n",
              "      <th>0</th>\n",
              "      <td>Spectra</td>\n",
              "      <td>The Leela Ambience, Gurgaon</td>\n",
              "      <td>5015431352112</td>\n",
              "      <td>Juhi Agrawal</td>\n",
              "      <td>Delhi NCR</td>\n",
              "      <td>72</td>\n",
              "      <td>web</td>\n",
              "      <td>3</td>\n",
              "      <td>1</td>\n",
              "    </tr>\n",
              "    <tr>\n",
              "      <th>1</th>\n",
              "      <td>restaurant_name_null</td>\n",
              "      <td>location_null</td>\n",
              "      <td>5015431352113</td>\n",
              "      <td>Manish</td>\n",
              "      <td>Delhi NCR</td>\n",
              "      <td>45</td>\n",
              "      <td>android</td>\n",
              "      <td>8</td>\n",
              "      <td>0</td>\n",
              "    </tr>\n",
              "    <tr>\n",
              "      <th>2</th>\n",
              "      <td>restaurant_name_null</td>\n",
              "      <td>location_null</td>\n",
              "      <td>5015431352114</td>\n",
              "      <td>mani</td>\n",
              "      <td>Chennai</td>\n",
              "      <td>29</td>\n",
              "      <td>android</td>\n",
              "      <td>8</td>\n",
              "      <td>0</td>\n",
              "    </tr>\n",
              "    <tr>\n",
              "      <th>3</th>\n",
              "      <td>Barbeque Nation</td>\n",
              "      <td>Park Street Area, Kolkata</td>\n",
              "      <td>5015431352115</td>\n",
              "      <td>Rija</td>\n",
              "      <td>Kolkata</td>\n",
              "      <td>60</td>\n",
              "      <td>google</td>\n",
              "      <td>5</td>\n",
              "      <td>1</td>\n",
              "    </tr>\n",
              "    <tr>\n",
              "      <th>4</th>\n",
              "      <td>restaurant_name_null</td>\n",
              "      <td>location_null</td>\n",
              "      <td>5015431352120</td>\n",
              "      <td>Bharath</td>\n",
              "      <td>NaN</td>\n",
              "      <td>32</td>\n",
              "      <td>google</td>\n",
              "      <td>8</td>\n",
              "      <td>0</td>\n",
              "    </tr>\n",
              "  </tbody>\n",
              "</table>\n",
              "</div>"
            ],
            "text/plain": [
              "        restaurant_name                     location  ...  Duration Booked_status\n",
              "0               Spectra  The Leela Ambience, Gurgaon  ...         3             1\n",
              "1  restaurant_name_null                location_null  ...         8             0\n",
              "2  restaurant_name_null                location_null  ...         8             0\n",
              "3       Barbeque Nation    Park Street Area, Kolkata  ...         5             1\n",
              "4  restaurant_name_null                location_null  ...         8             0\n",
              "\n",
              "[5 rows x 9 columns]"
            ]
          },
          "metadata": {
            "tags": []
          },
          "execution_count": 60
        }
      ]
    },
    {
      "cell_type": "code",
      "metadata": {
        "id": "y1v8HCL_J9qc"
      },
      "source": [
        ""
      ],
      "execution_count": null,
      "outputs": []
    }
  ]
}
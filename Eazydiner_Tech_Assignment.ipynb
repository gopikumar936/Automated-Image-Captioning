{
  "nbformat": 4,
  "nbformat_minor": 0,
  "metadata": {
    "colab": {
      "name": "Eazydiner Tech Assignment.ipynb",
      "provenance": [],
      "mount_file_id": "16EDYZBIJGjt9B3Eb_4SO0TQ1gaS-EmEi",
      "authorship_tag": "ABX9TyM2u1N5UM/WrLsJPJu70wb0",
      "include_colab_link": true
    },
    "kernelspec": {
      "name": "python3",
      "display_name": "Python 3"
    },
    "language_info": {
      "name": "python"
    }
  },
  "cells": [
    {
      "cell_type": "markdown",
      "metadata": {
        "id": "view-in-github",
        "colab_type": "text"
      },
      "source": [
        "<a href=\"https://colab.research.google.com/github/gopikumar936/Automated-Image-Captioning/blob/master/Eazydiner_Tech_Assignment.ipynb\" target=\"_parent\"><img src=\"https://colab.research.google.com/assets/colab-badge.svg\" alt=\"Open In Colab\"/></a>"
      ]
    },
    {
      "cell_type": "code",
      "metadata": {
        "id": "xsGro0sZiJn7"
      },
      "source": [
        "#Importing the Libraries\n",
        "import numpy as np\n",
        "import pandas as pd\n",
        "import matplotlib.pyplot as plt\n",
        "import seaborn as sns\n",
        "import datetime as dt\n",
        "import missingno\n"
      ],
      "execution_count": 1,
      "outputs": []
    },
    {
      "cell_type": "code",
      "metadata": {
        "id": "VG8Op60gjoOS"
      },
      "source": [
        "signup_data = pd.read_excel(\"/content/drive/MyDrive/dataset1/Sample_CUSTOMER_Dataset_2.xlsx\")\n",
        "booking_data = pd.read_excel(\"/content/drive/MyDrive/dataset1/Sample_BOOKINGS_Dataset_1.xlsx\")"
      ],
      "execution_count": 3,
      "outputs": []
    },
    {
      "cell_type": "code",
      "metadata": {
        "colab": {
          "base_uri": "https://localhost:8080/",
          "height": 195
        },
        "id": "YPaAcKDRj358",
        "outputId": "c7fc1b60-f332-4023-dbbc-4a9cb738feb7"
      },
      "source": [
        "booking_data.head()"
      ],
      "execution_count": 4,
      "outputs": [
        {
          "output_type": "execute_result",
          "data": {
            "text/html": [
              "<div>\n",
              "<style scoped>\n",
              "    .dataframe tbody tr th:only-of-type {\n",
              "        vertical-align: middle;\n",
              "    }\n",
              "\n",
              "    .dataframe tbody tr th {\n",
              "        vertical-align: top;\n",
              "    }\n",
              "\n",
              "    .dataframe thead th {\n",
              "        text-align: right;\n",
              "    }\n",
              "</style>\n",
              "<table border=\"1\" class=\"dataframe\">\n",
              "  <thead>\n",
              "    <tr style=\"text-align: right;\">\n",
              "      <th></th>\n",
              "      <th>date</th>\n",
              "      <th>medium</th>\n",
              "      <th>restaurant_name</th>\n",
              "      <th>location</th>\n",
              "      <th>cust_id</th>\n",
              "    </tr>\n",
              "  </thead>\n",
              "  <tbody>\n",
              "    <tr>\n",
              "      <th>0</th>\n",
              "      <td>2020-09-04</td>\n",
              "      <td>web</td>\n",
              "      <td>Spectra</td>\n",
              "      <td>The Leela Ambience, Gurgaon</td>\n",
              "      <td>5015431352112</td>\n",
              "    </tr>\n",
              "    <tr>\n",
              "      <th>1</th>\n",
              "      <td>2020-09-06</td>\n",
              "      <td>google</td>\n",
              "      <td>Barbeque Nation</td>\n",
              "      <td>Park Street Area, Kolkata</td>\n",
              "      <td>5015431352115</td>\n",
              "    </tr>\n",
              "    <tr>\n",
              "      <th>2</th>\n",
              "      <td>2020-09-01</td>\n",
              "      <td>google</td>\n",
              "      <td>Barbeque Nation</td>\n",
              "      <td>Ambience Mall, Gurgaon</td>\n",
              "      <td>5015431352121</td>\n",
              "    </tr>\n",
              "    <tr>\n",
              "      <th>3</th>\n",
              "      <td>2020-09-04</td>\n",
              "      <td>google</td>\n",
              "      <td>Barbeque Pride</td>\n",
              "      <td>Hitech City, Hyderabad</td>\n",
              "      <td>5015431352122</td>\n",
              "    </tr>\n",
              "    <tr>\n",
              "      <th>4</th>\n",
              "      <td>2020-09-06</td>\n",
              "      <td>google</td>\n",
              "      <td>Float Brewery</td>\n",
              "      <td>Kalyan Nagar, North Bengaluru</td>\n",
              "      <td>5015431352123</td>\n",
              "    </tr>\n",
              "  </tbody>\n",
              "</table>\n",
              "</div>"
            ],
            "text/plain": [
              "        date  medium  ...                       location        cust_id\n",
              "0 2020-09-04     web  ...    The Leela Ambience, Gurgaon  5015431352112\n",
              "1 2020-09-06  google  ...      Park Street Area, Kolkata  5015431352115\n",
              "2 2020-09-01  google  ...         Ambience Mall, Gurgaon  5015431352121\n",
              "3 2020-09-04  google  ...         Hitech City, Hyderabad  5015431352122\n",
              "4 2020-09-06  google  ...  Kalyan Nagar, North Bengaluru  5015431352123\n",
              "\n",
              "[5 rows x 5 columns]"
            ]
          },
          "metadata": {
            "tags": []
          },
          "execution_count": 4
        }
      ]
    },
    {
      "cell_type": "code",
      "metadata": {
        "colab": {
          "base_uri": "https://localhost:8080/",
          "height": 195
        },
        "id": "-4zKpn4-j7bn",
        "outputId": "ca05210f-3069-42a4-b41a-99d46b219fce"
      },
      "source": [
        "signup_data.head()"
      ],
      "execution_count": 5,
      "outputs": [
        {
          "output_type": "execute_result",
          "data": {
            "text/html": [
              "<div>\n",
              "<style scoped>\n",
              "    .dataframe tbody tr th:only-of-type {\n",
              "        vertical-align: middle;\n",
              "    }\n",
              "\n",
              "    .dataframe tbody tr th {\n",
              "        vertical-align: top;\n",
              "    }\n",
              "\n",
              "    .dataframe thead th {\n",
              "        text-align: right;\n",
              "    }\n",
              "</style>\n",
              "<table border=\"1\" class=\"dataframe\">\n",
              "  <thead>\n",
              "    <tr style=\"text-align: right;\">\n",
              "      <th></th>\n",
              "      <th>cust_id</th>\n",
              "      <th>name</th>\n",
              "      <th>city</th>\n",
              "      <th>gender</th>\n",
              "      <th>AGE</th>\n",
              "      <th>medium</th>\n",
              "      <th>signup_date</th>\n",
              "    </tr>\n",
              "  </thead>\n",
              "  <tbody>\n",
              "    <tr>\n",
              "      <th>0</th>\n",
              "      <td>5015431352112</td>\n",
              "      <td>Juhi Agrawal</td>\n",
              "      <td>Delhi NCR</td>\n",
              "      <td>F</td>\n",
              "      <td>72</td>\n",
              "      <td>web</td>\n",
              "      <td>2020-09-01</td>\n",
              "    </tr>\n",
              "    <tr>\n",
              "      <th>1</th>\n",
              "      <td>5015431352113</td>\n",
              "      <td>Manish</td>\n",
              "      <td>Delhi NCR</td>\n",
              "      <td>M</td>\n",
              "      <td>45</td>\n",
              "      <td>android</td>\n",
              "      <td>2020-09-01</td>\n",
              "    </tr>\n",
              "    <tr>\n",
              "      <th>2</th>\n",
              "      <td>5015431352114</td>\n",
              "      <td>mani</td>\n",
              "      <td>Chennai</td>\n",
              "      <td>M</td>\n",
              "      <td>29</td>\n",
              "      <td>android</td>\n",
              "      <td>2020-09-01</td>\n",
              "    </tr>\n",
              "    <tr>\n",
              "      <th>3</th>\n",
              "      <td>5015431352115</td>\n",
              "      <td>Rija</td>\n",
              "      <td>Kolkata</td>\n",
              "      <td>F</td>\n",
              "      <td>60</td>\n",
              "      <td>google</td>\n",
              "      <td>2020-09-01</td>\n",
              "    </tr>\n",
              "    <tr>\n",
              "      <th>4</th>\n",
              "      <td>5015431352120</td>\n",
              "      <td>Bharath</td>\n",
              "      <td>NaN</td>\n",
              "      <td>M</td>\n",
              "      <td>32</td>\n",
              "      <td>google</td>\n",
              "      <td>2020-09-01</td>\n",
              "    </tr>\n",
              "  </tbody>\n",
              "</table>\n",
              "</div>"
            ],
            "text/plain": [
              "         cust_id          name       city gender  AGE   medium signup_date\n",
              "0  5015431352112  Juhi Agrawal  Delhi NCR      F   72      web  2020-09-01\n",
              "1  5015431352113        Manish  Delhi NCR      M   45  android  2020-09-01\n",
              "2  5015431352114          mani    Chennai      M   29  android  2020-09-01\n",
              "3  5015431352115          Rija    Kolkata      F   60   google  2020-09-01\n",
              "4  5015431352120       Bharath        NaN      M   32   google  2020-09-01"
            ]
          },
          "metadata": {
            "tags": []
          },
          "execution_count": 5
        }
      ]
    },
    {
      "cell_type": "code",
      "metadata": {
        "colab": {
          "base_uri": "https://localhost:8080/"
        },
        "id": "TGlwdfrHkAbQ",
        "outputId": "d1a435a7-0e90-497d-df63-794d365cea3c"
      },
      "source": [
        "booking_data.info()"
      ],
      "execution_count": 6,
      "outputs": [
        {
          "output_type": "stream",
          "text": [
            "<class 'pandas.core.frame.DataFrame'>\n",
            "RangeIndex: 61333 entries, 0 to 61332\n",
            "Data columns (total 5 columns):\n",
            " #   Column           Non-Null Count  Dtype         \n",
            "---  ------           --------------  -----         \n",
            " 0   date             61333 non-null  datetime64[ns]\n",
            " 1   medium           61333 non-null  object        \n",
            " 2   restaurant_name  61333 non-null  object        \n",
            " 3   location         61333 non-null  object        \n",
            " 4   cust_id          61333 non-null  int64         \n",
            "dtypes: datetime64[ns](1), int64(1), object(3)\n",
            "memory usage: 2.3+ MB\n"
          ],
          "name": "stdout"
        }
      ]
    },
    {
      "cell_type": "code",
      "metadata": {
        "colab": {
          "base_uri": "https://localhost:8080/"
        },
        "id": "Iq368gIwkCyq",
        "outputId": "bd7ec216-2306-4b17-8490-b1af2ddda8ee"
      },
      "source": [
        "signup_data.info()"
      ],
      "execution_count": 7,
      "outputs": [
        {
          "output_type": "stream",
          "text": [
            "<class 'pandas.core.frame.DataFrame'>\n",
            "RangeIndex: 98354 entries, 0 to 98353\n",
            "Data columns (total 7 columns):\n",
            " #   Column       Non-Null Count  Dtype         \n",
            "---  ------       --------------  -----         \n",
            " 0   cust_id      98354 non-null  int64         \n",
            " 1   name         92756 non-null  object        \n",
            " 2   city         80621 non-null  object        \n",
            " 3   gender       4700 non-null   object        \n",
            " 4   AGE          98354 non-null  int64         \n",
            " 5   medium       98354 non-null  object        \n",
            " 6   signup_date  98354 non-null  datetime64[ns]\n",
            "dtypes: datetime64[ns](1), int64(2), object(4)\n",
            "memory usage: 5.3+ MB\n"
          ],
          "name": "stdout"
        }
      ]
    },
    {
      "cell_type": "code",
      "metadata": {
        "id": "ckr4NMVAkHpm"
      },
      "source": [
        "#Merging Both the dataset into one dataframe on cust_id column using outer join \n",
        "Merged_data = pd.merge(left=booking_data, right=signup_data, how='outer', left_on='cust_id', right_on='cust_id')"
      ],
      "execution_count": 8,
      "outputs": []
    },
    {
      "cell_type": "code",
      "metadata": {
        "colab": {
          "base_uri": "https://localhost:8080/",
          "height": 279
        },
        "id": "pOMB7od5kI4G",
        "outputId": "03e02df4-bc14-454f-d838-c86bef10620f"
      },
      "source": [
        "Merged_data.head()"
      ],
      "execution_count": 9,
      "outputs": [
        {
          "output_type": "execute_result",
          "data": {
            "text/html": [
              "<div>\n",
              "<style scoped>\n",
              "    .dataframe tbody tr th:only-of-type {\n",
              "        vertical-align: middle;\n",
              "    }\n",
              "\n",
              "    .dataframe tbody tr th {\n",
              "        vertical-align: top;\n",
              "    }\n",
              "\n",
              "    .dataframe thead th {\n",
              "        text-align: right;\n",
              "    }\n",
              "</style>\n",
              "<table border=\"1\" class=\"dataframe\">\n",
              "  <thead>\n",
              "    <tr style=\"text-align: right;\">\n",
              "      <th></th>\n",
              "      <th>date</th>\n",
              "      <th>medium_x</th>\n",
              "      <th>restaurant_name</th>\n",
              "      <th>location</th>\n",
              "      <th>cust_id</th>\n",
              "      <th>name</th>\n",
              "      <th>city</th>\n",
              "      <th>gender</th>\n",
              "      <th>AGE</th>\n",
              "      <th>medium_y</th>\n",
              "      <th>signup_date</th>\n",
              "    </tr>\n",
              "  </thead>\n",
              "  <tbody>\n",
              "    <tr>\n",
              "      <th>0</th>\n",
              "      <td>2020-09-04</td>\n",
              "      <td>web</td>\n",
              "      <td>Spectra</td>\n",
              "      <td>The Leela Ambience, Gurgaon</td>\n",
              "      <td>5015431352112</td>\n",
              "      <td>Juhi Agrawal</td>\n",
              "      <td>Delhi NCR</td>\n",
              "      <td>F</td>\n",
              "      <td>72</td>\n",
              "      <td>web</td>\n",
              "      <td>2020-09-01</td>\n",
              "    </tr>\n",
              "    <tr>\n",
              "      <th>1</th>\n",
              "      <td>2020-09-06</td>\n",
              "      <td>google</td>\n",
              "      <td>Barbeque Nation</td>\n",
              "      <td>Park Street Area, Kolkata</td>\n",
              "      <td>5015431352115</td>\n",
              "      <td>Rija</td>\n",
              "      <td>Kolkata</td>\n",
              "      <td>F</td>\n",
              "      <td>60</td>\n",
              "      <td>google</td>\n",
              "      <td>2020-09-01</td>\n",
              "    </tr>\n",
              "    <tr>\n",
              "      <th>2</th>\n",
              "      <td>2020-09-01</td>\n",
              "      <td>google</td>\n",
              "      <td>Barbeque Nation</td>\n",
              "      <td>Ambience Mall, Gurgaon</td>\n",
              "      <td>5015431352121</td>\n",
              "      <td>Aparna</td>\n",
              "      <td>Delhi NCR</td>\n",
              "      <td>F</td>\n",
              "      <td>27</td>\n",
              "      <td>google</td>\n",
              "      <td>2020-09-01</td>\n",
              "    </tr>\n",
              "    <tr>\n",
              "      <th>3</th>\n",
              "      <td>2020-09-04</td>\n",
              "      <td>google</td>\n",
              "      <td>Barbeque Pride</td>\n",
              "      <td>Hitech City, Hyderabad</td>\n",
              "      <td>5015431352122</td>\n",
              "      <td>Pavan Sai Chandra</td>\n",
              "      <td>Hyderabad</td>\n",
              "      <td>M</td>\n",
              "      <td>69</td>\n",
              "      <td>google</td>\n",
              "      <td>2020-09-01</td>\n",
              "    </tr>\n",
              "    <tr>\n",
              "      <th>4</th>\n",
              "      <td>2020-09-06</td>\n",
              "      <td>google</td>\n",
              "      <td>Float Brewery</td>\n",
              "      <td>Kalyan Nagar, North Bengaluru</td>\n",
              "      <td>5015431352123</td>\n",
              "      <td>Vaseem</td>\n",
              "      <td>Bengaluru</td>\n",
              "      <td>M</td>\n",
              "      <td>38</td>\n",
              "      <td>google</td>\n",
              "      <td>2020-09-01</td>\n",
              "    </tr>\n",
              "  </tbody>\n",
              "</table>\n",
              "</div>"
            ],
            "text/plain": [
              "        date medium_x  restaurant_name  ... AGE  medium_y signup_date\n",
              "0 2020-09-04      web          Spectra  ...  72       web  2020-09-01\n",
              "1 2020-09-06   google  Barbeque Nation  ...  60    google  2020-09-01\n",
              "2 2020-09-01   google  Barbeque Nation  ...  27    google  2020-09-01\n",
              "3 2020-09-04   google   Barbeque Pride  ...  69    google  2020-09-01\n",
              "4 2020-09-06   google    Float Brewery  ...  38    google  2020-09-01\n",
              "\n",
              "[5 rows x 11 columns]"
            ]
          },
          "metadata": {
            "tags": []
          },
          "execution_count": 9
        }
      ]
    },
    {
      "cell_type": "code",
      "metadata": {
        "colab": {
          "base_uri": "https://localhost:8080/"
        },
        "id": "d9qFHJ6NkMli",
        "outputId": "a2f7ceea-bfea-426d-d1c8-cf107ba6f093"
      },
      "source": [
        "Merged_data.shape"
      ],
      "execution_count": 10,
      "outputs": [
        {
          "output_type": "execute_result",
          "data": {
            "text/plain": [
              "(98354, 11)"
            ]
          },
          "metadata": {
            "tags": []
          },
          "execution_count": 10
        }
      ]
    },
    {
      "cell_type": "code",
      "metadata": {
        "colab": {
          "base_uri": "https://localhost:8080/"
        },
        "id": "y2vwNJI2kN0J",
        "outputId": "6d778b6a-2817-402b-d684-77efd8ff8b1e"
      },
      "source": [
        "Merged_data.info()"
      ],
      "execution_count": 11,
      "outputs": [
        {
          "output_type": "stream",
          "text": [
            "<class 'pandas.core.frame.DataFrame'>\n",
            "Int64Index: 98354 entries, 0 to 98353\n",
            "Data columns (total 11 columns):\n",
            " #   Column           Non-Null Count  Dtype         \n",
            "---  ------           --------------  -----         \n",
            " 0   date             61333 non-null  datetime64[ns]\n",
            " 1   medium_x         61333 non-null  object        \n",
            " 2   restaurant_name  61333 non-null  object        \n",
            " 3   location         61333 non-null  object        \n",
            " 4   cust_id          98354 non-null  int64         \n",
            " 5   name             92756 non-null  object        \n",
            " 6   city             80621 non-null  object        \n",
            " 7   gender           4700 non-null   object        \n",
            " 8   AGE              98354 non-null  int64         \n",
            " 9   medium_y         98354 non-null  object        \n",
            " 10  signup_date      98354 non-null  datetime64[ns]\n",
            "dtypes: datetime64[ns](2), int64(2), object(7)\n",
            "memory usage: 9.0+ MB\n"
          ],
          "name": "stdout"
        }
      ]
    },
    {
      "cell_type": "code",
      "metadata": {
        "colab": {
          "base_uri": "https://localhost:8080/"
        },
        "id": "joo_rlc0kQpS",
        "outputId": "5a5072f3-1e9b-43d5-ce15-62ecd572d93f"
      },
      "source": [
        "#Checking Missing Value\n",
        "print(Merged_data.isnull().any())\n",
        "print(\"Count of Missing Value in each columns/feature\")\n",
        "print(Merged_data.isnull().sum())"
      ],
      "execution_count": 12,
      "outputs": [
        {
          "output_type": "stream",
          "text": [
            "date                True\n",
            "medium_x            True\n",
            "restaurant_name     True\n",
            "location            True\n",
            "cust_id            False\n",
            "name                True\n",
            "city                True\n",
            "gender              True\n",
            "AGE                False\n",
            "medium_y           False\n",
            "signup_date        False\n",
            "dtype: bool\n",
            "Count of Missing Value in each columns/feature\n",
            "date               37021\n",
            "medium_x           37021\n",
            "restaurant_name    37021\n",
            "location           37021\n",
            "cust_id                0\n",
            "name                5598\n",
            "city               17733\n",
            "gender             93654\n",
            "AGE                    0\n",
            "medium_y               0\n",
            "signup_date            0\n",
            "dtype: int64\n"
          ],
          "name": "stdout"
        }
      ]
    },
    {
      "cell_type": "code",
      "metadata": {
        "colab": {
          "base_uri": "https://localhost:8080/",
          "height": 47
        },
        "id": "EZqT92kJkX0B",
        "outputId": "0fdfce96-784c-4429-b818-b4348caa8d38"
      },
      "source": [
        "#Eliminating duplicate rows after merging\n",
        "Merged_data[Merged_data.duplicated(keep = 'first' , subset = ['cust_id'])]"
      ],
      "execution_count": 13,
      "outputs": [
        {
          "output_type": "execute_result",
          "data": {
            "text/html": [
              "<div>\n",
              "<style scoped>\n",
              "    .dataframe tbody tr th:only-of-type {\n",
              "        vertical-align: middle;\n",
              "    }\n",
              "\n",
              "    .dataframe tbody tr th {\n",
              "        vertical-align: top;\n",
              "    }\n",
              "\n",
              "    .dataframe thead th {\n",
              "        text-align: right;\n",
              "    }\n",
              "</style>\n",
              "<table border=\"1\" class=\"dataframe\">\n",
              "  <thead>\n",
              "    <tr style=\"text-align: right;\">\n",
              "      <th></th>\n",
              "      <th>date</th>\n",
              "      <th>medium_x</th>\n",
              "      <th>restaurant_name</th>\n",
              "      <th>location</th>\n",
              "      <th>cust_id</th>\n",
              "      <th>name</th>\n",
              "      <th>city</th>\n",
              "      <th>gender</th>\n",
              "      <th>AGE</th>\n",
              "      <th>medium_y</th>\n",
              "      <th>signup_date</th>\n",
              "    </tr>\n",
              "  </thead>\n",
              "  <tbody>\n",
              "  </tbody>\n",
              "</table>\n",
              "</div>"
            ],
            "text/plain": [
              "Empty DataFrame\n",
              "Columns: [date, medium_x, restaurant_name, location, cust_id, name, city, gender, AGE, medium_y, signup_date]\n",
              "Index: []"
            ]
          },
          "metadata": {
            "tags": []
          },
          "execution_count": 13
        }
      ]
    },
    {
      "cell_type": "code",
      "metadata": {
        "id": "0bouLFLZkZW2"
      },
      "source": [
        "Merged_data.sort_values(by=['cust_id'], inplace=True)\n",
        "Merged_data.reset_index(drop=True, inplace=True)"
      ],
      "execution_count": 14,
      "outputs": []
    },
    {
      "cell_type": "code",
      "metadata": {
        "colab": {
          "base_uri": "https://localhost:8080/"
        },
        "id": "p-I7sYbnkdnx",
        "outputId": "08e10478-9dbf-43cd-a64e-44737489492a"
      },
      "source": [
        "Merged_data.isnull().sum()"
      ],
      "execution_count": 15,
      "outputs": [
        {
          "output_type": "execute_result",
          "data": {
            "text/plain": [
              "date               37021\n",
              "medium_x           37021\n",
              "restaurant_name    37021\n",
              "location           37021\n",
              "cust_id                0\n",
              "name                5598\n",
              "city               17733\n",
              "gender             93654\n",
              "AGE                    0\n",
              "medium_y               0\n",
              "signup_date            0\n",
              "dtype: int64"
            ]
          },
          "metadata": {
            "tags": []
          },
          "execution_count": 15
        }
      ]
    },
    {
      "cell_type": "code",
      "metadata": {
        "colab": {
          "base_uri": "https://localhost:8080/",
          "height": 447
        },
        "id": "CcS_-a50khxB",
        "outputId": "3fa7c1f3-7a35-4cfe-8da8-e1c749c1e13c"
      },
      "source": [
        "missingno.matrix(Merged_data,figsize=(10,5))"
      ],
      "execution_count": 16,
      "outputs": [
        {
          "output_type": "execute_result",
          "data": {
            "text/plain": [
              "<matplotlib.axes._subplots.AxesSubplot at 0x7f4dcd39fbd0>"
            ]
          },
          "metadata": {
            "tags": []
          },
          "execution_count": 16
        },
        {
          "output_type": "display_data",
          "data": {
            "image/png": "[encoded data removed]",
            "text/plain": [
              "<Figure size 720x360 with 2 Axes>"
            ]
          },
          "metadata": {
            "tags": [],
            "needs_background": "light"
          }
        }
      ]
    },
    {
      "cell_type": "markdown",
      "metadata": {
        "id": "rPT5rceXknwX"
      },
      "source": [
        "#    Observations \n",
        " 1) There are missing values in columns except cust_id,AGE,medium_y and signup_date"
      ]
    },
    {
      "cell_type": "markdown",
      "metadata": {
        "id": "aP70fLb2ks4l"
      },
      "source": [
        "2) Number of Missing value in column Gender is very high . so We will drop this column"
      ]
    },
    {
      "cell_type": "markdown",
      "metadata": {
        "id": "CsKTD2AZkxRt"
      },
      "source": [
        "3)The columns medium_x and medium_y are same for a particular customer, but some values are missing in medium_x so we can replace those missing values with the values in medium_y. "
      ]
    },
    {
      "cell_type": "code",
      "metadata": {
        "id": "DXLVmIs0k2AQ"
      },
      "source": [
        "Merged_data1 = Merged_data.copy()"
      ],
      "execution_count": 17,
      "outputs": []
    },
    {
      "cell_type": "code",
      "metadata": {
        "id": "uQIlikQilBCH"
      },
      "source": [
        "Merged_data1.drop(\"gender\",axis=1 , inplace=True)"
      ],
      "execution_count": 19,
      "outputs": []
    },
    {
      "cell_type": "code",
      "metadata": {
        "colab": {
          "base_uri": "https://localhost:8080/",
          "height": 195
        },
        "id": "Izq5SXH-lNDo",
        "outputId": "36ea2c8f-c200-4975-8561-737739aa5624"
      },
      "source": [
        "Merged_data1.head()"
      ],
      "execution_count": 20,
      "outputs": [
        {
          "output_type": "execute_result",
          "data": {
            "text/html": [
              "<div>\n",
              "<style scoped>\n",
              "    .dataframe tbody tr th:only-of-type {\n",
              "        vertical-align: middle;\n",
              "    }\n",
              "\n",
              "    .dataframe tbody tr th {\n",
              "        vertical-align: top;\n",
              "    }\n",
              "\n",
              "    .dataframe thead th {\n",
              "        text-align: right;\n",
              "    }\n",
              "</style>\n",
              "<table border=\"1\" class=\"dataframe\">\n",
              "  <thead>\n",
              "    <tr style=\"text-align: right;\">\n",
              "      <th></th>\n",
              "      <th>date</th>\n",
              "      <th>medium_x</th>\n",
              "      <th>restaurant_name</th>\n",
              "      <th>location</th>\n",
              "      <th>cust_id</th>\n",
              "      <th>name</th>\n",
              "      <th>city</th>\n",
              "      <th>AGE</th>\n",
              "      <th>medium_y</th>\n",
              "      <th>signup_date</th>\n",
              "    </tr>\n",
              "  </thead>\n",
              "  <tbody>\n",
              "    <tr>\n",
              "      <th>0</th>\n",
              "      <td>2020-09-04</td>\n",
              "      <td>web</td>\n",
              "      <td>Spectra</td>\n",
              "      <td>The Leela Ambience, Gurgaon</td>\n",
              "      <td>5015431352112</td>\n",
              "      <td>Juhi Agrawal</td>\n",
              "      <td>Delhi NCR</td>\n",
              "      <td>72</td>\n",
              "      <td>web</td>\n",
              "      <td>2020-09-01</td>\n",
              "    </tr>\n",
              "    <tr>\n",
              "      <th>1</th>\n",
              "      <td>NaT</td>\n",
              "      <td>NaN</td>\n",
              "      <td>NaN</td>\n",
              "      <td>NaN</td>\n",
              "      <td>5015431352113</td>\n",
              "      <td>Manish</td>\n",
              "      <td>Delhi NCR</td>\n",
              "      <td>45</td>\n",
              "      <td>android</td>\n",
              "      <td>2020-09-01</td>\n",
              "    </tr>\n",
              "    <tr>\n",
              "      <th>2</th>\n",
              "      <td>NaT</td>\n",
              "      <td>NaN</td>\n",
              "      <td>NaN</td>\n",
              "      <td>NaN</td>\n",
              "      <td>5015431352114</td>\n",
              "      <td>mani</td>\n",
              "      <td>Chennai</td>\n",
              "      <td>29</td>\n",
              "      <td>android</td>\n",
              "      <td>2020-09-01</td>\n",
              "    </tr>\n",
              "    <tr>\n",
              "      <th>3</th>\n",
              "      <td>2020-09-06</td>\n",
              "      <td>google</td>\n",
              "      <td>Barbeque Nation</td>\n",
              "      <td>Park Street Area, Kolkata</td>\n",
              "      <td>5015431352115</td>\n",
              "      <td>Rija</td>\n",
              "      <td>Kolkata</td>\n",
              "      <td>60</td>\n",
              "      <td>google</td>\n",
              "      <td>2020-09-01</td>\n",
              "    </tr>\n",
              "    <tr>\n",
              "      <th>4</th>\n",
              "      <td>NaT</td>\n",
              "      <td>NaN</td>\n",
              "      <td>NaN</td>\n",
              "      <td>NaN</td>\n",
              "      <td>5015431352120</td>\n",
              "      <td>Bharath</td>\n",
              "      <td>NaN</td>\n",
              "      <td>32</td>\n",
              "      <td>google</td>\n",
              "      <td>2020-09-01</td>\n",
              "    </tr>\n",
              "  </tbody>\n",
              "</table>\n",
              "</div>"
            ],
            "text/plain": [
              "        date medium_x  restaurant_name  ... AGE  medium_y signup_date\n",
              "0 2020-09-04      web          Spectra  ...  72       web  2020-09-01\n",
              "1        NaT      NaN              NaN  ...  45   android  2020-09-01\n",
              "2        NaT      NaN              NaN  ...  29   android  2020-09-01\n",
              "3 2020-09-06   google  Barbeque Nation  ...  60    google  2020-09-01\n",
              "4        NaT      NaN              NaN  ...  32    google  2020-09-01\n",
              "\n",
              "[5 rows x 10 columns]"
            ]
          },
          "metadata": {
            "tags": []
          },
          "execution_count": 20
        }
      ]
    },
    {
      "cell_type": "code",
      "metadata": {
        "id": "lEb4q2AalX7d"
      },
      "source": [
        "#Creating a new column medium which contains all the values in medium_x after filling missing values\n",
        "Merged_data['medium']= Merged_data['medium_x'].fillna(Merged_data['medium_y'])"
      ],
      "execution_count": 21,
      "outputs": []
    },
    {
      "cell_type": "code",
      "metadata": {
        "id": "0xpafxTolaXl"
      },
      "source": [
        "##Creating new_column \"Duration\" denotes difference in booking_date and signup_date \n",
        "from datetime import timedelta\n",
        "Merged_data['Duration'] = Merged_data['date']-Merged_data['signup_date']\n",
        "Merged_data['Duration'] = Merged_data['Duration']/timedelta(days=1)"
      ],
      "execution_count": 22,
      "outputs": []
    },
    {
      "cell_type": "markdown",
      "metadata": {
        "id": "4cOeSDe2lnoh"
      },
      "source": [
        "Based on the 'Duration' column we will create a new column 'Booked_status' which will denote whether a customer has done the booking within 7 days of signing up or not"
      ]
    },
    {
      "cell_type": "code",
      "metadata": {
        "id": "zjo2jrsZlphk"
      },
      "source": [
        "# 0 - customers who have not booked after signup or those who have not booked within 7 days\n",
        "# 1 - customers who have booked within 7 days \n",
        "Merged_data['Booked_status']= np.where(Merged_data['Duration']>7,0, np.where(Merged_data['Duration'].isnull(), 0, 1))"
      ],
      "execution_count": 23,
      "outputs": []
    },
    {
      "cell_type": "code",
      "metadata": {
        "colab": {
          "base_uri": "https://localhost:8080/",
          "height": 316
        },
        "id": "1CqIfMFQltSZ",
        "outputId": "4ce5626c-70fe-4294-9f17-25674321e745"
      },
      "source": [
        "Merged_data.head()"
      ],
      "execution_count": 24,
      "outputs": [
        {
          "output_type": "execute_result",
          "data": {
            "text/html": [
              "<div>\n",
              "<style scoped>\n",
              "    .dataframe tbody tr th:only-of-type {\n",
              "        vertical-align: middle;\n",
              "    }\n",
              "\n",
              "    .dataframe tbody tr th {\n",
              "        vertical-align: top;\n",
              "    }\n",
              "\n",
              "    .dataframe thead th {\n",
              "        text-align: right;\n",
              "    }\n",
              "</style>\n",
              "<table border=\"1\" class=\"dataframe\">\n",
              "  <thead>\n",
              "    <tr style=\"text-align: right;\">\n",
              "      <th></th>\n",
              "      <th>date</th>\n",
              "      <th>medium_x</th>\n",
              "      <th>restaurant_name</th>\n",
              "      <th>location</th>\n",
              "      <th>cust_id</th>\n",
              "      <th>name</th>\n",
              "      <th>city</th>\n",
              "      <th>gender</th>\n",
              "      <th>AGE</th>\n",
              "      <th>medium_y</th>\n",
              "      <th>signup_date</th>\n",
              "      <th>medium</th>\n",
              "      <th>Duration</th>\n",
              "      <th>Booked_status</th>\n",
              "    </tr>\n",
              "  </thead>\n",
              "  <tbody>\n",
              "    <tr>\n",
              "      <th>0</th>\n",
              "      <td>2020-09-04</td>\n",
              "      <td>web</td>\n",
              "      <td>Spectra</td>\n",
              "      <td>The Leela Ambience, Gurgaon</td>\n",
              "      <td>5015431352112</td>\n",
              "      <td>Juhi Agrawal</td>\n",
              "      <td>Delhi NCR</td>\n",
              "      <td>F</td>\n",
              "      <td>72</td>\n",
              "      <td>web</td>\n",
              "      <td>2020-09-01</td>\n",
              "      <td>web</td>\n",
              "      <td>3.0</td>\n",
              "      <td>1</td>\n",
              "    </tr>\n",
              "    <tr>\n",
              "      <th>1</th>\n",
              "      <td>NaT</td>\n",
              "      <td>NaN</td>\n",
              "      <td>NaN</td>\n",
              "      <td>NaN</td>\n",
              "      <td>5015431352113</td>\n",
              "      <td>Manish</td>\n",
              "      <td>Delhi NCR</td>\n",
              "      <td>M</td>\n",
              "      <td>45</td>\n",
              "      <td>android</td>\n",
              "      <td>2020-09-01</td>\n",
              "      <td>android</td>\n",
              "      <td>NaN</td>\n",
              "      <td>0</td>\n",
              "    </tr>\n",
              "    <tr>\n",
              "      <th>2</th>\n",
              "      <td>NaT</td>\n",
              "      <td>NaN</td>\n",
              "      <td>NaN</td>\n",
              "      <td>NaN</td>\n",
              "      <td>5015431352114</td>\n",
              "      <td>mani</td>\n",
              "      <td>Chennai</td>\n",
              "      <td>M</td>\n",
              "      <td>29</td>\n",
              "      <td>android</td>\n",
              "      <td>2020-09-01</td>\n",
              "      <td>android</td>\n",
              "      <td>NaN</td>\n",
              "      <td>0</td>\n",
              "    </tr>\n",
              "    <tr>\n",
              "      <th>3</th>\n",
              "      <td>2020-09-06</td>\n",
              "      <td>google</td>\n",
              "      <td>Barbeque Nation</td>\n",
              "      <td>Park Street Area, Kolkata</td>\n",
              "      <td>5015431352115</td>\n",
              "      <td>Rija</td>\n",
              "      <td>Kolkata</td>\n",
              "      <td>F</td>\n",
              "      <td>60</td>\n",
              "      <td>google</td>\n",
              "      <td>2020-09-01</td>\n",
              "      <td>google</td>\n",
              "      <td>5.0</td>\n",
              "      <td>1</td>\n",
              "    </tr>\n",
              "    <tr>\n",
              "      <th>4</th>\n",
              "      <td>NaT</td>\n",
              "      <td>NaN</td>\n",
              "      <td>NaN</td>\n",
              "      <td>NaN</td>\n",
              "      <td>5015431352120</td>\n",
              "      <td>Bharath</td>\n",
              "      <td>NaN</td>\n",
              "      <td>M</td>\n",
              "      <td>32</td>\n",
              "      <td>google</td>\n",
              "      <td>2020-09-01</td>\n",
              "      <td>google</td>\n",
              "      <td>NaN</td>\n",
              "      <td>0</td>\n",
              "    </tr>\n",
              "  </tbody>\n",
              "</table>\n",
              "</div>"
            ],
            "text/plain": [
              "        date medium_x  restaurant_name  ...   medium  Duration Booked_status\n",
              "0 2020-09-04      web          Spectra  ...      web       3.0             1\n",
              "1        NaT      NaN              NaN  ...  android       NaN             0\n",
              "2        NaT      NaN              NaN  ...  android       NaN             0\n",
              "3 2020-09-06   google  Barbeque Nation  ...   google       5.0             1\n",
              "4        NaT      NaN              NaN  ...   google       NaN             0\n",
              "\n",
              "[5 rows x 14 columns]"
            ]
          },
          "metadata": {
            "tags": []
          },
          "execution_count": 24
        }
      ]
    },
    {
      "cell_type": "code",
      "metadata": {
        "colab": {
          "base_uri": "https://localhost:8080/"
        },
        "id": "1MRIDzc2l3_x",
        "outputId": "65daab58-4d7d-4222-97aa-c7fbaefd4a88"
      },
      "source": [
        "Merged_data.isnull().sum()"
      ],
      "execution_count": 25,
      "outputs": [
        {
          "output_type": "execute_result",
          "data": {
            "text/plain": [
              "date               37021\n",
              "medium_x           37021\n",
              "restaurant_name    37021\n",
              "location           37021\n",
              "cust_id                0\n",
              "name                5598\n",
              "city               17733\n",
              "gender             93654\n",
              "AGE                    0\n",
              "medium_y               0\n",
              "signup_date            0\n",
              "medium                 0\n",
              "Duration           37021\n",
              "Booked_status          0\n",
              "dtype: int64"
            ]
          },
          "metadata": {
            "tags": []
          },
          "execution_count": 25
        }
      ]
    },
    {
      "cell_type": "code",
      "metadata": {
        "colab": {
          "base_uri": "https://localhost:8080/",
          "height": 447
        },
        "id": "Y0L_Xag_l5mC",
        "outputId": "8ecc0df5-2e61-412c-aa4f-5e134b8f593a"
      },
      "source": [
        "missingno.matrix(Merged_data,figsize=(10,5))"
      ],
      "execution_count": 26,
      "outputs": [
        {
          "output_type": "execute_result",
          "data": {
            "text/plain": [
              "<matplotlib.axes._subplots.AxesSubplot at 0x7f4dcba53b90>"
            ]
          },
          "metadata": {
            "tags": []
          },
          "execution_count": 26
        },
        {
          "output_type": "display_data",
          "data": {
            "image/png": "[encoded data removed]",
            "text/plain": [
              "<Figure size 720x360 with 2 Axes>"
            ]
          },
          "metadata": {
            "tags": [],
            "needs_background": "light"
          }
        }
      ]
    },
    {
      "cell_type": "markdown",
      "metadata": {
        "id": "drAj8EPlmBk4"
      },
      "source": [
        "1) We can see that the number of missing values in all the 3 columns 'restaurant_name', 'location' and 'duration' are same which makes sense because there are missing values in the 'duration' column for those customers who have not done booking after signing up and hence the restaurant_name and location will also be not there in the records for such customers and hence the value under column 'Booked' will be 0 for all of them."
      ]
    },
    {
      "cell_type": "markdown",
      "metadata": {
        "id": "DSzVuWhomDrM"
      },
      "source": [
        "2) So we can infer that these missing values are directly related to the 'Booked' column. So we need to take care of these missing values as we cannot directly drop them."
      ]
    },
    {
      "cell_type": "markdown",
      "metadata": {
        "id": "NC6KQSd_mH2x"
      },
      "source": [
        "3) We can fill any number greater that 7 in 'Duration' column to replace null value so that 'booked_status' value is maintained at 0."
      ]
    },
    {
      "cell_type": "code",
      "metadata": {
        "id": "63PUHV54l9Qt"
      },
      "source": [
        "#Replacing null values with 8 in 'duration'.\n",
        "Merged_data['Duration'] = Merged_data['Duration'].fillna(8).astype(int)"
      ],
      "execution_count": 27,
      "outputs": []
    },
    {
      "cell_type": "code",
      "metadata": {
        "id": "hWdsQR3_mU2m"
      },
      "source": [
        "#Replacing null values in 'restaurant_name' with a new category 'restaurant_name_null'.\n",
        "Merged_data['restaurant_name'] = Merged_data['restaurant_name'].fillna('restaurant_name_null')"
      ],
      "execution_count": 28,
      "outputs": []
    },
    {
      "cell_type": "code",
      "metadata": {
        "id": "rpY0jBZlmXix"
      },
      "source": [
        "#Replacing null values in 'location' with a new category 'location_null'.\n",
        "Merged_data['location'] = Merged_data['location'].fillna('location_null')"
      ],
      "execution_count": 29,
      "outputs": []
    },
    {
      "cell_type": "code",
      "metadata": {
        "id": "jHLlNhaImZ6q"
      },
      "source": [
        "##Replacing null values in 'city' with a new category 'city_null'.\n",
        "Merged_data['city'] = Merged_data['city'].fillna('city_null')"
      ],
      "execution_count": 30,
      "outputs": []
    },
    {
      "cell_type": "code",
      "metadata": {
        "colab": {
          "base_uri": "https://localhost:8080/"
        },
        "id": "QcHZrDflmb6K",
        "outputId": "1bbff5a7-71d8-42e7-d52a-77a51c0f2b67"
      },
      "source": [
        "Merged_data.isnull().sum()"
      ],
      "execution_count": 31,
      "outputs": [
        {
          "output_type": "execute_result",
          "data": {
            "text/plain": [
              "date               37021\n",
              "medium_x           37021\n",
              "restaurant_name        0\n",
              "location               0\n",
              "cust_id                0\n",
              "name                5598\n",
              "city                   0\n",
              "gender             93654\n",
              "AGE                    0\n",
              "medium_y               0\n",
              "signup_date            0\n",
              "medium                 0\n",
              "Duration               0\n",
              "Booked_status          0\n",
              "dtype: int64"
            ]
          },
          "metadata": {
            "tags": []
          },
          "execution_count": 31
        }
      ]
    },
    {
      "cell_type": "code",
      "metadata": {
        "colab": {
          "base_uri": "https://localhost:8080/"
        },
        "id": "EoZuwrSlmiQO",
        "outputId": "fc514c52-6ef4-4575-c94c-5d578498b597"
      },
      "source": [
        "#Total number of Bookings done\n",
        "Merged_data['Booked_status'].value_counts()"
      ],
      "execution_count": 32,
      "outputs": [
        {
          "output_type": "execute_result",
          "data": {
            "text/plain": [
              "1    54688\n",
              "0    43666\n",
              "Name: Booked_status, dtype: int64"
            ]
          },
          "metadata": {
            "tags": []
          },
          "execution_count": 32
        }
      ]
    },
    {
      "cell_type": "markdown",
      "metadata": {
        "id": "tP7eJhbMmnfF"
      },
      "source": [
        "# Handling Categorical Feature Columns"
      ]
    },
    {
      "cell_type": "code",
      "metadata": {
        "colab": {
          "base_uri": "https://localhost:8080/"
        },
        "id": "PpvewIRgmjzV",
        "outputId": "74dc0ce7-f043-49da-dbe2-611250329511"
      },
      "source": [
        "# Relavant Columns - 'location' , 'restaurant_name' ,'city' , 'medium'\n",
        "\n",
        "cols = ['restaurant_name','location','city','medium']\n",
        "for i in Merged_data[cols]:\n",
        "    print('Number of unique values in {} : {}'.format(i, len(Merged_data[i].unique())))"
      ],
      "execution_count": 33,
      "outputs": [
        {
          "output_type": "stream",
          "text": [
            "Number of unique values in restaurant_name : 2314\n",
            "Number of unique values in location : 1232\n",
            "Number of unique values in city : 168\n",
            "Number of unique values in medium : 6\n"
          ],
          "name": "stdout"
        }
      ]
    },
    {
      "cell_type": "markdown",
      "metadata": {
        "id": "bJmYTOgCmwhW"
      },
      "source": [
        "We can see that number of unique categories in column 'restaurant_name ' , 'location' ,'city' is very high and hence after encoding the number of columns will increase by a large amount . So, We cannot directly encode these features.\n",
        "\n",
        "\n",
        "\n"
      ]
    },
    {
      "cell_type": "markdown",
      "metadata": {
        "id": "ERhX37ldnLYy"
      },
      "source": [
        "To prevent this we will encode the top 50 frequent categories in each column which will decrease our number of columns "
      ]
    },
    {
      "cell_type": "code",
      "metadata": {
        "colab": {
          "base_uri": "https://localhost:8080/"
        },
        "id": "eqjBOCpgmzuD",
        "outputId": "e482008a-e15f-429f-d3c2-073e5cf4bd29"
      },
      "source": [
        "#Top 50 categories of restaurant_names\n",
        "restaurant_list=Merged_data.restaurant_name.value_counts().sort_values(ascending=False).head(50).index\n",
        "restaurant_list=list(restaurant_list)\n",
        "print(restaurant_list)"
      ],
      "execution_count": 35,
      "outputs": [
        {
          "output_type": "stream",
          "text": [
            "['restaurant_name_null', 'Barbeque Nation', \"AB's - Absolute Barbecues\", 'Byg Brewski Brewing Company', 'Mainland China', 'Runway1', \"The Fisherman's Wharf\", 'Flame & Grill', 'Barbeque nation', 'Sigree Global Grill', 'The G.T. Road', 'Uru Brewpark', 'Olive Bistro', '6 Ballygunge Place', 'BOA VILLAGE', 'JW Kitchen', 'Punjab Grill', 'Claw BBQ Crabshack & Grill', 'Farzi Cafe', 'Lord of the Drinks', 'Olive Bar & Kitchen', 'Oh! Calcutta', 'DRAMZ', 'The Big Barbeque', 'Bukhara', 'The Marketplace', \"Chili's\", 'Diablo', 'Jetlag', 'Brahma Brews', 'The Barbeque Company', 'Cafe Delhi Heights', 'Sigree', 'Gufha', 'The Caravan Menu', 'Little Italy', 'Communiti', ' Golconda Pavilion', 'Unplugged Courtyard', '27 Culinary Street', 'Jungle Jamboree', 'Arbor Brewing Company', 'Little Italy ', 'Local', 'Sector 7 Social', 'Kipling Cafe', \"Berco's\", 'The Tenth Floor', 'La Cabana', 'MKT']\n"
          ],
          "name": "stdout"
        }
      ]
    },
    {
      "cell_type": "code",
      "metadata": {
        "id": "qtX3K1MZoExD"
      },
      "source": [
        "#encoding the column 'restaurant_name'\n",
        "for categories in restaurant_list:\n",
        "    Merged_data['R' + '_' + categories]=np.where(Merged_data['restaurant_name']==categories,1,0)"
      ],
      "execution_count": 37,
      "outputs": []
    },
    {
      "cell_type": "code",
      "metadata": {
        "colab": {
          "base_uri": "https://localhost:8080/",
          "height": 350
        },
        "id": "_HZcAxxnoRFI",
        "outputId": "eb1fdda1-bbb9-4b11-8ef2-1cb945ad514d"
      },
      "source": [
        "#Splitting the features and label column\n",
        "cols = ['date','medium_x','restaurant_name','location','cust_id','city','name','gender','medium_y','signup_date','Booked_status','medium']\n",
        "X = Merged_final.drop(Merged_data[cols],axis=1) ## Removing Redundant features - as we have create new columns corresponding to these columns \n",
        "y = Merged_final['Booked_status']"
      ],
      "execution_count": 38,
      "outputs": [
        {
          "output_type": "execute_result",
          "data": {
            "text/html": [
              "<div>\n",
              "<style scoped>\n",
              "    .dataframe tbody tr th:only-of-type {\n",
              "        vertical-align: middle;\n",
              "    }\n",
              "\n",
              "    .dataframe tbody tr th {\n",
              "        vertical-align: top;\n",
              "    }\n",
              "\n",
              "    .dataframe thead th {\n",
              "        text-align: right;\n",
              "    }\n",
              "</style>\n",
              "<table border=\"1\" class=\"dataframe\">\n",
              "  <thead>\n",
              "    <tr style=\"text-align: right;\">\n",
              "      <th></th>\n",
              "      <th>date</th>\n",
              "      <th>medium_x</th>\n",
              "      <th>restaurant_name</th>\n",
              "      <th>location</th>\n",
              "      <th>cust_id</th>\n",
              "      <th>name</th>\n",
              "      <th>city</th>\n",
              "      <th>gender</th>\n",
              "      <th>AGE</th>\n",
              "      <th>medium_y</th>\n",
              "      <th>signup_date</th>\n",
              "      <th>medium</th>\n",
              "      <th>Duration</th>\n",
              "      <th>Booked_status</th>\n",
              "      <th>R_restaurant_name_null</th>\n",
              "      <th>R_Barbeque Nation</th>\n",
              "      <th>R_AB's - Absolute Barbecues</th>\n",
              "      <th>R_Byg Brewski Brewing Company</th>\n",
              "      <th>R_Mainland China</th>\n",
              "      <th>R_Runway1</th>\n",
              "      <th>R_The Fisherman's Wharf</th>\n",
              "      <th>R_Flame &amp; Grill</th>\n",
              "      <th>R_Barbeque nation</th>\n",
              "      <th>R_Sigree Global Grill</th>\n",
              "      <th>R_The G.T. Road</th>\n",
              "      <th>R_Uru Brewpark</th>\n",
              "      <th>R_Olive Bistro</th>\n",
              "      <th>R_6 Ballygunge Place</th>\n",
              "      <th>R_BOA VILLAGE</th>\n",
              "      <th>R_JW Kitchen</th>\n",
              "      <th>R_Punjab Grill</th>\n",
              "      <th>R_Claw BBQ Crabshack &amp; Grill</th>\n",
              "      <th>R_Farzi Cafe</th>\n",
              "      <th>R_Lord of the Drinks</th>\n",
              "      <th>R_Olive Bar &amp; Kitchen</th>\n",
              "      <th>R_Oh! Calcutta</th>\n",
              "      <th>R_DRAMZ</th>\n",
              "      <th>R_The Big Barbeque</th>\n",
              "      <th>R_Bukhara</th>\n",
              "      <th>R_The Marketplace</th>\n",
              "      <th>R_Chili's</th>\n",
              "      <th>R_Diablo</th>\n",
              "      <th>R_Jetlag</th>\n",
              "      <th>R_Brahma Brews</th>\n",
              "      <th>R_The Barbeque Company</th>\n",
              "      <th>R_Cafe Delhi Heights</th>\n",
              "      <th>R_Sigree</th>\n",
              "      <th>R_Gufha</th>\n",
              "      <th>R_The Caravan Menu</th>\n",
              "      <th>R_Little Italy</th>\n",
              "      <th>R_Communiti</th>\n",
              "      <th>R_ Golconda Pavilion</th>\n",
              "      <th>R_Unplugged Courtyard</th>\n",
              "      <th>R_27 Culinary Street</th>\n",
              "      <th>R_Jungle Jamboree</th>\n",
              "      <th>R_Arbor Brewing Company</th>\n",
              "      <th>R_Little Italy</th>\n",
              "      <th>R_Local</th>\n",
              "      <th>R_Sector 7 Social</th>\n",
              "      <th>R_Kipling Cafe</th>\n",
              "      <th>R_Berco's</th>\n",
              "      <th>R_The Tenth Floor</th>\n",
              "      <th>R_La Cabana</th>\n",
              "      <th>R_MKT</th>\n",
              "    </tr>\n",
              "  </thead>\n",
              "  <tbody>\n",
              "    <tr>\n",
              "      <th>0</th>\n",
              "      <td>2020-09-04</td>\n",
              "      <td>web</td>\n",
              "      <td>Spectra</td>\n",
              "      <td>The Leela Ambience, Gurgaon</td>\n",
              "      <td>5015431352112</td>\n",
              "      <td>Juhi Agrawal</td>\n",
              "      <td>Delhi NCR</td>\n",
              "      <td>F</td>\n",
              "      <td>72</td>\n",
              "      <td>web</td>\n",
              "      <td>2020-09-01</td>\n",
              "      <td>web</td>\n",
              "      <td>3</td>\n",
              "      <td>1</td>\n",
              "      <td>0</td>\n",
              "      <td>0</td>\n",
              "      <td>0</td>\n",
              "      <td>0</td>\n",
              "      <td>0</td>\n",
              "      <td>0</td>\n",
              "      <td>0</td>\n",
              "      <td>0</td>\n",
              "      <td>0</td>\n",
              "      <td>0</td>\n",
              "      <td>0</td>\n",
              "      <td>0</td>\n",
              "      <td>0</td>\n",
              "      <td>0</td>\n",
              "      <td>0</td>\n",
              "      <td>0</td>\n",
              "      <td>0</td>\n",
              "      <td>0</td>\n",
              "      <td>0</td>\n",
              "      <td>0</td>\n",
              "      <td>0</td>\n",
              "      <td>0</td>\n",
              "      <td>0</td>\n",
              "      <td>0</td>\n",
              "      <td>0</td>\n",
              "      <td>0</td>\n",
              "      <td>0</td>\n",
              "      <td>0</td>\n",
              "      <td>0</td>\n",
              "      <td>0</td>\n",
              "      <td>0</td>\n",
              "      <td>0</td>\n",
              "      <td>0</td>\n",
              "      <td>0</td>\n",
              "      <td>0</td>\n",
              "      <td>0</td>\n",
              "      <td>0</td>\n",
              "      <td>0</td>\n",
              "      <td>0</td>\n",
              "      <td>0</td>\n",
              "      <td>0</td>\n",
              "      <td>0</td>\n",
              "      <td>0</td>\n",
              "      <td>0</td>\n",
              "      <td>0</td>\n",
              "      <td>0</td>\n",
              "      <td>0</td>\n",
              "      <td>0</td>\n",
              "      <td>0</td>\n",
              "      <td>0</td>\n",
              "    </tr>\n",
              "    <tr>\n",
              "      <th>1</th>\n",
              "      <td>NaT</td>\n",
              "      <td>NaN</td>\n",
              "      <td>restaurant_name_null</td>\n",
              "      <td>location_null</td>\n",
              "      <td>5015431352113</td>\n",
              "      <td>Manish</td>\n",
              "      <td>Delhi NCR</td>\n",
              "      <td>M</td>\n",
              "      <td>45</td>\n",
              "      <td>android</td>\n",
              "      <td>2020-09-01</td>\n",
              "      <td>android</td>\n",
              "      <td>8</td>\n",
              "      <td>0</td>\n",
              "      <td>1</td>\n",
              "      <td>0</td>\n",
              "      <td>0</td>\n",
              "      <td>0</td>\n",
              "      <td>0</td>\n",
              "      <td>0</td>\n",
              "      <td>0</td>\n",
              "      <td>0</td>\n",
              "      <td>0</td>\n",
              "      <td>0</td>\n",
              "      <td>0</td>\n",
              "      <td>0</td>\n",
              "      <td>0</td>\n",
              "      <td>0</td>\n",
              "      <td>0</td>\n",
              "      <td>0</td>\n",
              "      <td>0</td>\n",
              "      <td>0</td>\n",
              "      <td>0</td>\n",
              "      <td>0</td>\n",
              "      <td>0</td>\n",
              "      <td>0</td>\n",
              "      <td>0</td>\n",
              "      <td>0</td>\n",
              "      <td>0</td>\n",
              "      <td>0</td>\n",
              "      <td>0</td>\n",
              "      <td>0</td>\n",
              "      <td>0</td>\n",
              "      <td>0</td>\n",
              "      <td>0</td>\n",
              "      <td>0</td>\n",
              "      <td>0</td>\n",
              "      <td>0</td>\n",
              "      <td>0</td>\n",
              "      <td>0</td>\n",
              "      <td>0</td>\n",
              "      <td>0</td>\n",
              "      <td>0</td>\n",
              "      <td>0</td>\n",
              "      <td>0</td>\n",
              "      <td>0</td>\n",
              "      <td>0</td>\n",
              "      <td>0</td>\n",
              "      <td>0</td>\n",
              "      <td>0</td>\n",
              "      <td>0</td>\n",
              "      <td>0</td>\n",
              "      <td>0</td>\n",
              "      <td>0</td>\n",
              "    </tr>\n",
              "    <tr>\n",
              "      <th>2</th>\n",
              "      <td>NaT</td>\n",
              "      <td>NaN</td>\n",
              "      <td>restaurant_name_null</td>\n",
              "      <td>location_null</td>\n",
              "      <td>5015431352114</td>\n",
              "      <td>mani</td>\n",
              "      <td>Chennai</td>\n",
              "      <td>M</td>\n",
              "      <td>29</td>\n",
              "      <td>android</td>\n",
              "      <td>2020-09-01</td>\n",
              "      <td>android</td>\n",
              "      <td>8</td>\n",
              "      <td>0</td>\n",
              "      <td>1</td>\n",
              "      <td>0</td>\n",
              "      <td>0</td>\n",
              "      <td>0</td>\n",
              "      <td>0</td>\n",
              "      <td>0</td>\n",
              "      <td>0</td>\n",
              "      <td>0</td>\n",
              "      <td>0</td>\n",
              "      <td>0</td>\n",
              "      <td>0</td>\n",
              "      <td>0</td>\n",
              "      <td>0</td>\n",
              "      <td>0</td>\n",
              "      <td>0</td>\n",
              "      <td>0</td>\n",
              "      <td>0</td>\n",
              "      <td>0</td>\n",
              "      <td>0</td>\n",
              "      <td>0</td>\n",
              "      <td>0</td>\n",
              "      <td>0</td>\n",
              "      <td>0</td>\n",
              "      <td>0</td>\n",
              "      <td>0</td>\n",
              "      <td>0</td>\n",
              "      <td>0</td>\n",
              "      <td>0</td>\n",
              "      <td>0</td>\n",
              "      <td>0</td>\n",
              "      <td>0</td>\n",
              "      <td>0</td>\n",
              "      <td>0</td>\n",
              "      <td>0</td>\n",
              "      <td>0</td>\n",
              "      <td>0</td>\n",
              "      <td>0</td>\n",
              "      <td>0</td>\n",
              "      <td>0</td>\n",
              "      <td>0</td>\n",
              "      <td>0</td>\n",
              "      <td>0</td>\n",
              "      <td>0</td>\n",
              "      <td>0</td>\n",
              "      <td>0</td>\n",
              "      <td>0</td>\n",
              "      <td>0</td>\n",
              "      <td>0</td>\n",
              "      <td>0</td>\n",
              "      <td>0</td>\n",
              "    </tr>\n",
              "    <tr>\n",
              "      <th>3</th>\n",
              "      <td>2020-09-06</td>\n",
              "      <td>google</td>\n",
              "      <td>Barbeque Nation</td>\n",
              "      <td>Park Street Area, Kolkata</td>\n",
              "      <td>5015431352115</td>\n",
              "      <td>Rija</td>\n",
              "      <td>Kolkata</td>\n",
              "      <td>F</td>\n",
              "      <td>60</td>\n",
              "      <td>google</td>\n",
              "      <td>2020-09-01</td>\n",
              "      <td>google</td>\n",
              "      <td>5</td>\n",
              "      <td>1</td>\n",
              "      <td>0</td>\n",
              "      <td>1</td>\n",
              "      <td>0</td>\n",
              "      <td>0</td>\n",
              "      <td>0</td>\n",
              "      <td>0</td>\n",
              "      <td>0</td>\n",
              "      <td>0</td>\n",
              "      <td>0</td>\n",
              "      <td>0</td>\n",
              "      <td>0</td>\n",
              "      <td>0</td>\n",
              "      <td>0</td>\n",
              "      <td>0</td>\n",
              "      <td>0</td>\n",
              "      <td>0</td>\n",
              "      <td>0</td>\n",
              "      <td>0</td>\n",
              "      <td>0</td>\n",
              "      <td>0</td>\n",
              "      <td>0</td>\n",
              "      <td>0</td>\n",
              "      <td>0</td>\n",
              "      <td>0</td>\n",
              "      <td>0</td>\n",
              "      <td>0</td>\n",
              "      <td>0</td>\n",
              "      <td>0</td>\n",
              "      <td>0</td>\n",
              "      <td>0</td>\n",
              "      <td>0</td>\n",
              "      <td>0</td>\n",
              "      <td>0</td>\n",
              "      <td>0</td>\n",
              "      <td>0</td>\n",
              "      <td>0</td>\n",
              "      <td>0</td>\n",
              "      <td>0</td>\n",
              "      <td>0</td>\n",
              "      <td>0</td>\n",
              "      <td>0</td>\n",
              "      <td>0</td>\n",
              "      <td>0</td>\n",
              "      <td>0</td>\n",
              "      <td>0</td>\n",
              "      <td>0</td>\n",
              "      <td>0</td>\n",
              "      <td>0</td>\n",
              "      <td>0</td>\n",
              "      <td>0</td>\n",
              "    </tr>\n",
              "    <tr>\n",
              "      <th>4</th>\n",
              "      <td>NaT</td>\n",
              "      <td>NaN</td>\n",
              "      <td>restaurant_name_null</td>\n",
              "      <td>location_null</td>\n",
              "      <td>5015431352120</td>\n",
              "      <td>Bharath</td>\n",
              "      <td>city_null</td>\n",
              "      <td>M</td>\n",
              "      <td>32</td>\n",
              "      <td>google</td>\n",
              "      <td>2020-09-01</td>\n",
              "      <td>google</td>\n",
              "      <td>8</td>\n",
              "      <td>0</td>\n",
              "      <td>1</td>\n",
              "      <td>0</td>\n",
              "      <td>0</td>\n",
              "      <td>0</td>\n",
              "      <td>0</td>\n",
              "      <td>0</td>\n",
              "      <td>0</td>\n",
              "      <td>0</td>\n",
              "      <td>0</td>\n",
              "      <td>0</td>\n",
              "      <td>0</td>\n",
              "      <td>0</td>\n",
              "      <td>0</td>\n",
              "      <td>0</td>\n",
              "      <td>0</td>\n",
              "      <td>0</td>\n",
              "      <td>0</td>\n",
              "      <td>0</td>\n",
              "      <td>0</td>\n",
              "      <td>0</td>\n",
              "      <td>0</td>\n",
              "      <td>0</td>\n",
              "      <td>0</td>\n",
              "      <td>0</td>\n",
              "      <td>0</td>\n",
              "      <td>0</td>\n",
              "      <td>0</td>\n",
              "      <td>0</td>\n",
              "      <td>0</td>\n",
              "      <td>0</td>\n",
              "      <td>0</td>\n",
              "      <td>0</td>\n",
              "      <td>0</td>\n",
              "      <td>0</td>\n",
              "      <td>0</td>\n",
              "      <td>0</td>\n",
              "      <td>0</td>\n",
              "      <td>0</td>\n",
              "      <td>0</td>\n",
              "      <td>0</td>\n",
              "      <td>0</td>\n",
              "      <td>0</td>\n",
              "      <td>0</td>\n",
              "      <td>0</td>\n",
              "      <td>0</td>\n",
              "      <td>0</td>\n",
              "      <td>0</td>\n",
              "      <td>0</td>\n",
              "      <td>0</td>\n",
              "      <td>0</td>\n",
              "    </tr>\n",
              "  </tbody>\n",
              "</table>\n",
              "</div>"
            ],
            "text/plain": [
              "        date medium_x  ... R_La Cabana R_MKT\n",
              "0 2020-09-04      web  ...           0     0\n",
              "1        NaT      NaN  ...           0     0\n",
              "2        NaT      NaN  ...           0     0\n",
              "3 2020-09-06   google  ...           0     0\n",
              "4        NaT      NaN  ...           0     0\n",
              "\n",
              "[5 rows x 64 columns]"
            ]
          },
          "metadata": {
            "tags": []
          },
          "execution_count": 38
        }
      ]
    },
    {
      "cell_type": "code",
      "metadata": {
        "colab": {
          "base_uri": "https://localhost:8080/"
        },
        "id": "kf0GkRz1oXGC",
        "outputId": "aec744f7-8331-4d43-bfb1-0e9d625fb3cd"
      },
      "source": [
        "#Top 50 categories of location\n",
        "location_list=Merged_data.location.value_counts().sort_values(ascending=False).head(50).index\n",
        "location_list=list(location_list)\n",
        "print(location_list)"
      ],
      "execution_count": 39,
      "outputs": [
        {
          "output_type": "stream",
          "text": [
            "['location_null', 'Connaught Place (CP), Central Delhi', 'Banjara Hills, Hyderabad', 'Patna', 'JP Nagar, South Bengaluru', 'Visakhapatnam', 'Indiranagar, East Bengaluru', 'Jubilee Hills, Hyderabad', 'Rajajinagar, West Bengaluru', 'Hennur, North Bengaluru', 'Mehrauli, South Delhi', 'Sector 26, Chandigarh', 'Guwahati', 'Vijayawada', 'Koramangala, South Bengaluru', 'Sarjapur Road, South Bengaluru', 'Durgapur', 'Tirupati', 'Bhubaneswar', 'Coimbatore', 'Metro Walk Mall, Rohini', 'Trichy', 'Park Street Area, Kolkata', 'Kalyan Nagar, North Bengaluru', 'Gachibowli, Hyderabad', 'Nungambakkam, Chennai', 'Janakpuri, West Delhi', 'Madurai', 'Electronic City, South Bengaluru', 'Saket, South Delhi', 'Varanasi', 'Mysore', 'BTM, South Bengaluru', 'Velachery, Chennai', 'Inorbit Mall, Hitech City', 'T. Nagar, Chennai', 'Kothapet, Hyderabad', 'Ballygunge, Kolkata', 'Forum Sujana Mall, Kukatpally', 'Marathahalli, East Bengaluru', 'South City Mall, Prince Anwar Shah Road', 'Wakad, Pune', 'Ranchi', 'Sector 7, Chandigarh', 'Kakinada', 'Kanpur', 'Vegas Mall, Dwarka', 'Yelahanka, North Bengaluru', 'Kochi', 'Erode']\n"
          ],
          "name": "stdout"
        }
      ]
    },
    {
      "cell_type": "code",
      "metadata": {
        "id": "WPVKueRroikK"
      },
      "source": [
        "#encoding the column 'location'\n",
        "for category in location_list:\n",
        "    Merged_data['L' + '_' + category]=np.where(Merged_data['location']==category,1,0)"
      ],
      "execution_count": 40,
      "outputs": []
    },
    {
      "cell_type": "code",
      "metadata": {
        "colab": {
          "base_uri": "https://localhost:8080/"
        },
        "id": "UBnZKmRmouSU",
        "outputId": "1f3322e5-1a0f-4f76-fb2f-8859bc697295"
      },
      "source": [
        "#Top 50 categories of city\n",
        "city_list=Merged_data.city.value_counts().sort_values(ascending=False).head(50).index\n",
        "city_list=list(city_list)\n",
        "print(city_list)"
      ],
      "execution_count": 41,
      "outputs": [
        {
          "output_type": "stream",
          "text": [
            "['city_null', 'Delhi NCR', 'Bengaluru', 'Hyderabad', 'Mumbai', 'Kolkata', 'Chennai', 'Pune', 'Chandigarh', 'Dubai', 'Patna', 'Goa', 'Jaipur', 'Visakhapatnam', 'Ahmedabad', 'Lucknow', 'Guwahati', 'Vijayawada', 'Durgapur', 'Tirupati', 'Bhubaneswar', 'Coimbatore', 'Trichy', 'Ludhiana', 'Madurai', 'Varanasi', 'Mysore', 'Kanpur', 'Ranchi', 'Kochi', 'Salem', 'Vadodara', 'Kakinada', 'Thiruvananthapuram', 'Erode', 'Pondicherry', 'Guntur', 'Surat', 'Amritsar', 'Bareilly', 'Mangalore', 'Nagpur', 'Nellore', 'Jalandhar', 'Agra', 'Dehradun', 'Vellore', 'Jammu', 'Prayagraj', 'Kolhapur']\n"
          ],
          "name": "stdout"
        }
      ]
    },
    {
      "cell_type": "code",
      "metadata": {
        "id": "4vI0gOago5Dp"
      },
      "source": [
        "#encoding the column 'city'\n",
        "for city in city_list:\n",
        "    Merged_data['C' + '_' + city]=np.where(Merged_data['city']==city,1,0)"
      ],
      "execution_count": 43,
      "outputs": []
    },
    {
      "cell_type": "code",
      "metadata": {
        "id": "NnvlI_cRpMJa"
      },
      "source": [
        "#encoding the column 'medium'\n",
        "df = pd.get_dummies(Merged_data['medium'],drop_first=True) "
      ],
      "execution_count": 45,
      "outputs": []
    },
    {
      "cell_type": "code",
      "metadata": {
        "colab": {
          "base_uri": "https://localhost:8080/",
          "height": 195
        },
        "id": "hkgPcaEJp8ZJ",
        "outputId": "34cf88df-eccf-4eb9-bb67-aff518005009"
      },
      "source": [
        "df.head()"
      ],
      "execution_count": 46,
      "outputs": [
        {
          "output_type": "execute_result",
          "data": {
            "text/html": [
              "<div>\n",
              "<style scoped>\n",
              "    .dataframe tbody tr th:only-of-type {\n",
              "        vertical-align: middle;\n",
              "    }\n",
              "\n",
              "    .dataframe tbody tr th {\n",
              "        vertical-align: top;\n",
              "    }\n",
              "\n",
              "    .dataframe thead th {\n",
              "        text-align: right;\n",
              "    }\n",
              "</style>\n",
              "<table border=\"1\" class=\"dataframe\">\n",
              "  <thead>\n",
              "    <tr style=\"text-align: right;\">\n",
              "      <th></th>\n",
              "      <th>api_partner</th>\n",
              "      <th>concierge</th>\n",
              "      <th>google</th>\n",
              "      <th>ios</th>\n",
              "      <th>web</th>\n",
              "    </tr>\n",
              "  </thead>\n",
              "  <tbody>\n",
              "    <tr>\n",
              "      <th>0</th>\n",
              "      <td>0</td>\n",
              "      <td>0</td>\n",
              "      <td>0</td>\n",
              "      <td>0</td>\n",
              "      <td>1</td>\n",
              "    </tr>\n",
              "    <tr>\n",
              "      <th>1</th>\n",
              "      <td>0</td>\n",
              "      <td>0</td>\n",
              "      <td>0</td>\n",
              "      <td>0</td>\n",
              "      <td>0</td>\n",
              "    </tr>\n",
              "    <tr>\n",
              "      <th>2</th>\n",
              "      <td>0</td>\n",
              "      <td>0</td>\n",
              "      <td>0</td>\n",
              "      <td>0</td>\n",
              "      <td>0</td>\n",
              "    </tr>\n",
              "    <tr>\n",
              "      <th>3</th>\n",
              "      <td>0</td>\n",
              "      <td>0</td>\n",
              "      <td>1</td>\n",
              "      <td>0</td>\n",
              "      <td>0</td>\n",
              "    </tr>\n",
              "    <tr>\n",
              "      <th>4</th>\n",
              "      <td>0</td>\n",
              "      <td>0</td>\n",
              "      <td>1</td>\n",
              "      <td>0</td>\n",
              "      <td>0</td>\n",
              "    </tr>\n",
              "  </tbody>\n",
              "</table>\n",
              "</div>"
            ],
            "text/plain": [
              "   api_partner  concierge  google  ios  web\n",
              "0            0          0       0    0    1\n",
              "1            0          0       0    0    0\n",
              "2            0          0       0    0    0\n",
              "3            0          0       1    0    0\n",
              "4            0          0       1    0    0"
            ]
          },
          "metadata": {
            "tags": []
          },
          "execution_count": 46
        }
      ]
    },
    {
      "cell_type": "code",
      "metadata": {
        "id": "7-Nnlm9pqAOx"
      },
      "source": [
        "#Final Dataframe after encoding\n",
        "Merged_final = pd.concat([df,Merged_data],axis=1)"
      ],
      "execution_count": 47,
      "outputs": []
    },
    {
      "cell_type": "code",
      "metadata": {
        "colab": {
          "base_uri": "https://localhost:8080/"
        },
        "id": "p9gW_1gxqHdd",
        "outputId": "a926d95a-7f3d-4f3e-cf89-526f46165c59"
      },
      "source": [
        "Merged_final.shape"
      ],
      "execution_count": 48,
      "outputs": [
        {
          "output_type": "execute_result",
          "data": {
            "text/plain": [
              "(98354, 169)"
            ]
          },
          "metadata": {
            "tags": []
          },
          "execution_count": 48
        }
      ]
    },
    {
      "cell_type": "code",
      "metadata": {
        "id": "Q-GBzy9MqdDP"
      },
      "source": [
        "#Splitting the features and label column\n",
        "cols = ['date','medium_x','restaurant_name','location','cust_id','city','name','gender','medium_y','signup_date','Booked_status','medium']\n",
        "X = Merged_final.drop(Merged_data[cols],axis=1) ## Removing Redundant features - as we have create new columns corresponding to these columns \n",
        "y = Merged_final['Booked_status']"
      ],
      "execution_count": 51,
      "outputs": []
    },
    {
      "cell_type": "code",
      "metadata": {
        "colab": {
          "base_uri": "https://localhost:8080/"
        },
        "id": "LndMXlxsq8WG",
        "outputId": "fbe8fd31-19fb-4b57-cf04-457e999a8520"
      },
      "source": [
        "X.head(),X.shape"
      ],
      "execution_count": 52,
      "outputs": [
        {
          "output_type": "execute_result",
          "data": {
            "text/plain": [
              "(   api_partner  concierge  google  ...  C_Jammu  C_Prayagraj  C_Kolhapur\n",
              " 0            0          0       0  ...        0            0           0\n",
              " 1            0          0       0  ...        0            0           0\n",
              " 2            0          0       0  ...        0            0           0\n",
              " 3            0          0       1  ...        0            0           0\n",
              " 4            0          0       1  ...        0            0           0\n",
              " \n",
              " [5 rows x 157 columns], (98354, 157))"
            ]
          },
          "metadata": {
            "tags": []
          },
          "execution_count": 52
        }
      ]
    },
    {
      "cell_type": "code",
      "metadata": {
        "colab": {
          "base_uri": "https://localhost:8080/"
        },
        "id": "ZudkPds4rCJF",
        "outputId": "2f57e419-7309-4699-9e46-419e0e84e942"
      },
      "source": [
        "y.head(3),y.shape"
      ],
      "execution_count": 53,
      "outputs": [
        {
          "output_type": "execute_result",
          "data": {
            "text/plain": [
              "(0    1\n",
              " 1    0\n",
              " 2    0\n",
              " Name: Booked_status, dtype: int64, (98354,))"
            ]
          },
          "metadata": {
            "tags": []
          },
          "execution_count": 53
        }
      ]
    },
    {
      "cell_type": "code",
      "metadata": {
        "id": "8F6rLQC3rLtJ"
      },
      "source": [
        "#splitting into training and testing data\n",
        "from sklearn.model_selection import train_test_split\n",
        "X_train, X_test, y_train, y_test = train_test_split(X, y, test_size = 0.3,random_state = 0)"
      ],
      "execution_count": 54,
      "outputs": []
    },
    {
      "cell_type": "markdown",
      "metadata": {
        "id": "3UY19hI0rZ75"
      },
      "source": [
        "# Applying Classification Algorithms "
      ]
    },
    {
      "cell_type": "markdown",
      "metadata": {
        "id": "k6VjVUZftH2i"
      },
      "source": [
        "According to the problem statement , we need to put those customers in the bucket of 1 whose probability is greater than or equal to 20%, so we will set up a threshold of 0.2 on our predicted probabilities and classify accordingly.\n",
        "\n"
      ]
    },
    {
      "cell_type": "markdown",
      "metadata": {
        "id": "x7v9DSpsrjDz"
      },
      "source": [
        "# Logistics Regression "
      ]
    },
    {
      "cell_type": "code",
      "metadata": {
        "colab": {
          "base_uri": "https://localhost:8080/"
        },
        "id": "vqgUyoDPrP8b",
        "outputId": "9378c3ee-1058-4151-ed20-fe54e2775b43"
      },
      "source": [
        "#Deploying Logistics Regression Classifier on the training data\n",
        "\n",
        "from sklearn.linear_model import LogisticRegression\n",
        "clf = LogisticRegression()\n",
        "clf.fit(X_train,y_train)\n",
        "prob_preds = clf.predict_proba(X_test)\n",
        "threshold = 0.2\n",
        "y_pred = [1 if prob_preds[i][1]>= threshold else 0 for i in range(len(prob_preds))]\n",
        "#Creating a confusion matrix and printing the accuracy score \n",
        "from sklearn.metrics import confusion_matrix, accuracy_score, classification_report\n",
        "cm = confusion_matrix(y_test, y_pred)\n",
        "print(cm)\n",
        "print('Accuracy from Logistics Regression ')\n",
        "print('Accuracy : {}'.format(accuracy_score(y_test, y_pred)))\n"
      ],
      "execution_count": 97,
      "outputs": [
        {
          "output_type": "stream",
          "text": [
            "[[13051     0]\n",
            " [    0 16456]]\n",
            "Accuracy from Logistics Regression \n",
            "Accuracy : 1.0\n"
          ],
          "name": "stdout"
        },
        {
          "output_type": "stream",
          "text": [
            "/usr/local/lib/python3.7/dist-packages/sklearn/linear_model/_logistic.py:940: ConvergenceWarning: lbfgs failed to converge (status=1):\n",
            "STOP: TOTAL NO. of ITERATIONS REACHED LIMIT.\n",
            "\n",
            "Increase the number of iterations (max_iter) or scale the data as shown in:\n",
            "    https://scikit-learn.org/stable/modules/preprocessing.html\n",
            "Please also refer to the documentation for alternative solver options:\n",
            "    https://scikit-learn.org/stable/modules/linear_model.html#logistic-regression\n",
            "  extra_warning_msg=_LOGISTIC_SOLVER_CONVERGENCE_MSG)\n"
          ],
          "name": "stderr"
        }
      ]
    },
    {
      "cell_type": "code",
      "metadata": {
        "colab": {
          "base_uri": "https://localhost:8080/"
        },
        "id": "Gkn16HT10kXN",
        "outputId": "431fef20-d60a-420d-c815-3aab57d82109"
      },
      "source": [
        "threshold = 0.2\n",
        "accuracy = []\n",
        "C = [0.5 ,0.8, 1.0, 1.2 , 1.5 ,1.8]\n",
        "def LogisticRegressionClf():\n",
        "  for c in C:\n",
        "    clf = LogisticRegression(C=c)\n",
        "    clf.fit(X_train,y_train)\n",
        "    prob_preds = clf.predict_proba(X_test)\n",
        "    y_pred = [1 if prob_preds[i][1]>= threshold else 0 for i in range(len(prob_preds))]\n",
        "    print('C : {}'.format(c))\n",
        "    accuracy.append(accuracy_score(y_test, y_pred))\n",
        "   \n",
        "\n"
      ],
      "execution_count": 80,
      "outputs": [
        {
          "output_type": "execute_result",
          "data": {
            "text/plain": [
              "LogisticRegression(C=1.0, class_weight=None, dual=False, fit_intercept=True,\n",
              "                   intercept_scaling=1, l1_ratio=None, max_iter=100,\n",
              "                   multi_class='auto', n_jobs=None, penalty='l2',\n",
              "                   random_state=None, solver='lbfgs', tol=0.0001, verbose=0,\n",
              "                   warm_start=False)"
            ]
          },
          "metadata": {
            "tags": []
          },
          "execution_count": 80
        }
      ]
    },
    {
      "cell_type": "code",
      "metadata": {
        "colab": {
          "base_uri": "https://localhost:8080/"
        },
        "id": "aPucWOhK27Si",
        "outputId": "6c18f2b5-e302-4999-dd30-dae10fc56cf6"
      },
      "source": [
        "LogisticRegressionClf()"
      ],
      "execution_count": 91,
      "outputs": [
        {
          "output_type": "stream",
          "text": [
            "/usr/local/lib/python3.7/dist-packages/sklearn/linear_model/_logistic.py:940: ConvergenceWarning: lbfgs failed to converge (status=1):\n",
            "STOP: TOTAL NO. of ITERATIONS REACHED LIMIT.\n",
            "\n",
            "Increase the number of iterations (max_iter) or scale the data as shown in:\n",
            "    https://scikit-learn.org/stable/modules/preprocessing.html\n",
            "Please also refer to the documentation for alternative solver options:\n",
            "    https://scikit-learn.org/stable/modules/linear_model.html#logistic-regression\n",
            "  extra_warning_msg=_LOGISTIC_SOLVER_CONVERGENCE_MSG)\n"
          ],
          "name": "stderr"
        },
        {
          "output_type": "stream",
          "text": [
            "C : 0.5\n",
            "Accuracy : 1.0\n",
            "-------------------------\n"
          ],
          "name": "stdout"
        },
        {
          "output_type": "stream",
          "text": [
            "/usr/local/lib/python3.7/dist-packages/sklearn/linear_model/_logistic.py:940: ConvergenceWarning: lbfgs failed to converge (status=1):\n",
            "STOP: TOTAL NO. of ITERATIONS REACHED LIMIT.\n",
            "\n",
            "Increase the number of iterations (max_iter) or scale the data as shown in:\n",
            "    https://scikit-learn.org/stable/modules/preprocessing.html\n",
            "Please also refer to the documentation for alternative solver options:\n",
            "    https://scikit-learn.org/stable/modules/linear_model.html#logistic-regression\n",
            "  extra_warning_msg=_LOGISTIC_SOLVER_CONVERGENCE_MSG)\n"
          ],
          "name": "stderr"
        },
        {
          "output_type": "stream",
          "text": [
            "C : 0.8\n",
            "Accuracy : 0.9998644389466906\n",
            "-------------------------\n"
          ],
          "name": "stdout"
        },
        {
          "output_type": "stream",
          "text": [
            "/usr/local/lib/python3.7/dist-packages/sklearn/linear_model/_logistic.py:940: ConvergenceWarning: lbfgs failed to converge (status=1):\n",
            "STOP: TOTAL NO. of ITERATIONS REACHED LIMIT.\n",
            "\n",
            "Increase the number of iterations (max_iter) or scale the data as shown in:\n",
            "    https://scikit-learn.org/stable/modules/preprocessing.html\n",
            "Please also refer to the documentation for alternative solver options:\n",
            "    https://scikit-learn.org/stable/modules/linear_model.html#logistic-regression\n",
            "  extra_warning_msg=_LOGISTIC_SOLVER_CONVERGENCE_MSG)\n"
          ],
          "name": "stderr"
        },
        {
          "output_type": "stream",
          "text": [
            "C : 1.0\n",
            "Accuracy : 1.0\n",
            "-------------------------\n"
          ],
          "name": "stdout"
        },
        {
          "output_type": "stream",
          "text": [
            "/usr/local/lib/python3.7/dist-packages/sklearn/linear_model/_logistic.py:940: ConvergenceWarning: lbfgs failed to converge (status=1):\n",
            "STOP: TOTAL NO. of ITERATIONS REACHED LIMIT.\n",
            "\n",
            "Increase the number of iterations (max_iter) or scale the data as shown in:\n",
            "    https://scikit-learn.org/stable/modules/preprocessing.html\n",
            "Please also refer to the documentation for alternative solver options:\n",
            "    https://scikit-learn.org/stable/modules/linear_model.html#logistic-regression\n",
            "  extra_warning_msg=_LOGISTIC_SOLVER_CONVERGENCE_MSG)\n"
          ],
          "name": "stderr"
        },
        {
          "output_type": "stream",
          "text": [
            "C : 1.2\n",
            "Accuracy : 1.0\n",
            "-------------------------\n"
          ],
          "name": "stdout"
        },
        {
          "output_type": "stream",
          "text": [
            "/usr/local/lib/python3.7/dist-packages/sklearn/linear_model/_logistic.py:940: ConvergenceWarning: lbfgs failed to converge (status=1):\n",
            "STOP: TOTAL NO. of ITERATIONS REACHED LIMIT.\n",
            "\n",
            "Increase the number of iterations (max_iter) or scale the data as shown in:\n",
            "    https://scikit-learn.org/stable/modules/preprocessing.html\n",
            "Please also refer to the documentation for alternative solver options:\n",
            "    https://scikit-learn.org/stable/modules/linear_model.html#logistic-regression\n",
            "  extra_warning_msg=_LOGISTIC_SOLVER_CONVERGENCE_MSG)\n"
          ],
          "name": "stderr"
        },
        {
          "output_type": "stream",
          "text": [
            "C : 1.5\n",
            "Accuracy : 1.0\n",
            "-------------------------\n",
            "C : 1.8\n",
            "Accuracy : 1.0\n",
            "-------------------------\n"
          ],
          "name": "stdout"
        },
        {
          "output_type": "stream",
          "text": [
            "/usr/local/lib/python3.7/dist-packages/sklearn/linear_model/_logistic.py:940: ConvergenceWarning: lbfgs failed to converge (status=1):\n",
            "STOP: TOTAL NO. of ITERATIONS REACHED LIMIT.\n",
            "\n",
            "Increase the number of iterations (max_iter) or scale the data as shown in:\n",
            "    https://scikit-learn.org/stable/modules/preprocessing.html\n",
            "Please also refer to the documentation for alternative solver options:\n",
            "    https://scikit-learn.org/stable/modules/linear_model.html#logistic-regression\n",
            "  extra_warning_msg=_LOGISTIC_SOLVER_CONVERGENCE_MSG)\n"
          ],
          "name": "stderr"
        }
      ]
    },
    {
      "cell_type": "code",
      "metadata": {
        "id": "hVnZEXkkssQq"
      },
      "source": [
        "# prob_preds = clf.predict_proba(X_test)\n",
        "# threshold = 0.2\n",
        "# y_pred = [1 if prob_preds[i][1]>= threshold else 0 for i in range(len(prob_preds))]"
      ],
      "execution_count": 79,
      "outputs": []
    },
    {
      "cell_type": "code",
      "metadata": {
        "id": "2sX7IxHJs46f"
      },
      "source": [
        "# #Creating a confusion matrix and printing the accuracy score \n",
        "# from sklearn.metrics import confusion_matrix, accuracy_score, classification_report\n",
        "# cm = confusion_matrix(y_test, y_pred)\n",
        "# # print(cm)\n",
        "# print('Accuracy from Logistics Regression ')\n",
        "# print('Accuracy : {}'.format(accuracy_score(y_test, y_pred)))"
      ],
      "execution_count": null,
      "outputs": []
    },
    {
      "cell_type": "code",
      "metadata": {
        "colab": {
          "base_uri": "https://localhost:8080/",
          "height": 342
        },
        "id": "ppoxwUx_zsOF",
        "outputId": "3fb4ba66-6d05-4ec5-d784-d97a0902617c"
      },
      "source": [
        "%matplotlib inline\n",
        "class_names=[0,1] # name  of classes\n",
        "fig, ax = plt.subplots()\n",
        "tick_marks = np.arange(len(class_names))\n",
        "plt.xticks(tick_marks, class_names)\n",
        "plt.yticks(tick_marks, class_names)\n",
        "# create heatmap\n",
        "sns.heatmap(pd.DataFrame(cm), annot=True, cmap=\"YlGnBu\" ,fmt='g')\n",
        "ax.xaxis.set_label_position(\"top\")\n",
        "plt.tight_layout()\n",
        "plt.title('Confusion matrix', y=1.1)\n",
        "plt.ylabel('Actual label')\n",
        "plt.xlabel('Predicted label')"
      ],
      "execution_count": 98,
      "outputs": [
        {
          "output_type": "execute_result",
          "data": {
            "text/plain": [
              "Text(0.5, 257.44, 'Predicted label')"
            ]
          },
          "metadata": {
            "tags": []
          },
          "execution_count": 98
        },
        {
          "output_type": "display_data",
          "data": {
            "image/png": "[encoded data removed]",
            "text/plain": [
              "<Figure size 432x288 with 2 Axes>"
            ]
          },
          "metadata": {
            "tags": [],
            "needs_background": "light"
          }
        }
      ]
    },
    {
      "cell_type": "markdown",
      "metadata": {
        "id": "KAThfBlvG9Hl"
      },
      "source": [
        "# Decision Tree Classifier "
      ]
    },
    {
      "cell_type": "code",
      "metadata": {
        "colab": {
          "base_uri": "https://localhost:8080/"
        },
        "id": "7Cl8SfueC9dn",
        "outputId": "cb8d4c9c-80a6-49a6-bcfe-803de0cda178"
      },
      "source": [
        "from sklearn.tree import DecisionTreeClassifier\n",
        "dt_clf = DecisionTreeClassifier()\n",
        "dt_clf.fit(X_train,y_train)"
      ],
      "execution_count": 112,
      "outputs": [
        {
          "output_type": "execute_result",
          "data": {
            "text/plain": [
              "DecisionTreeClassifier(ccp_alpha=0.0, class_weight=None, criterion='gini',\n",
              "                       max_depth=None, max_features=None, max_leaf_nodes=None,\n",
              "                       min_impurity_decrease=0.0, min_impurity_split=None,\n",
              "                       min_samples_leaf=1, min_samples_split=2,\n",
              "                       min_weight_fraction_leaf=0.0, presort='deprecated',\n",
              "                       random_state=None, splitter='best')"
            ]
          },
          "metadata": {
            "tags": []
          },
          "execution_count": 112
        }
      ]
    },
    {
      "cell_type": "code",
      "metadata": {
        "id": "vI3Zu5l3D3R6"
      },
      "source": [
        "prob_preds = dt_clf.predict_proba(X_test)\n",
        "threshold = 0.2\n",
        "y_pred = [1 if prob_preds[i][1]>= threshold else 0 for i in range(len(prob_preds))]"
      ],
      "execution_count": 113,
      "outputs": []
    },
    {
      "cell_type": "code",
      "metadata": {
        "colab": {
          "base_uri": "https://localhost:8080/"
        },
        "id": "P7hP29jzD_xK",
        "outputId": "82274209-e089-4b3d-f118-6394fd65acf5"
      },
      "source": [
        "#Creating a confusion matrix and printing the accuracy score \n",
        "from sklearn.metrics import confusion_matrix, accuracy_score, classification_report\n",
        "cm = confusion_matrix(y_test, y_pred)\n",
        "print(cm)\n",
        "print('Accuracy : {}'.format(accuracy_score(y_test, y_pred)))"
      ],
      "execution_count": 114,
      "outputs": [
        {
          "output_type": "stream",
          "text": [
            "[[13051     0]\n",
            " [    0 16456]]\n",
            "Accuracy : 1.0\n"
          ],
          "name": "stdout"
        }
      ]
    },
    {
      "cell_type": "markdown",
      "metadata": {
        "id": "l6UaU2yw3jnT"
      },
      "source": [
        "# Random Forest Classification "
      ]
    },
    {
      "cell_type": "code",
      "metadata": {
        "colab": {
          "base_uri": "https://localhost:8080/"
        },
        "id": "Rr9Hw5YS0Go7",
        "outputId": "7b5192e3-48b4-4221-8b63-9c0d9f63df2c"
      },
      "source": [
        "#Deploying Random Forest Classifier on the training data\n",
        "from sklearn.ensemble import RandomForestClassifier\n",
        "classifier = RandomForestClassifier(random_state=0)\n",
        "classifier.fit(X_train, y_train)"
      ],
      "execution_count": 118,
      "outputs": [
        {
          "output_type": "execute_result",
          "data": {
            "text/plain": [
              "RandomForestClassifier(bootstrap=True, ccp_alpha=0.0, class_weight=None,\n",
              "                       criterion='gini', max_depth=None, max_features='auto',\n",
              "                       max_leaf_nodes=None, max_samples=None,\n",
              "                       min_impurity_decrease=0.0, min_impurity_split=None,\n",
              "                       min_samples_leaf=1, min_samples_split=2,\n",
              "                       min_weight_fraction_leaf=0.0, n_estimators=100,\n",
              "                       n_jobs=None, oob_score=False, random_state=0, verbose=0,\n",
              "                       warm_start=False)"
            ]
          },
          "metadata": {
            "tags": []
          },
          "execution_count": 118
        }
      ]
    },
    {
      "cell_type": "code",
      "metadata": {
        "id": "9B8jw1pS0OXl"
      },
      "source": [
        "prob_preds = classifier.predict_proba(X_test)\n",
        "threshold = 0.2\n",
        "y_pred = [1 if prob_preds[i][1]>= threshold else 0 for i in range(len(prob_preds))]"
      ],
      "execution_count": 119,
      "outputs": []
    },
    {
      "cell_type": "code",
      "metadata": {
        "colab": {
          "base_uri": "https://localhost:8080/"
        },
        "id": "2ArS054O0QlN",
        "outputId": "3d9f62a9-d4d9-4b2c-f86d-2f1305a7d270"
      },
      "source": [
        "#Creating a confusion matrix and printing the accuracy score \n",
        "from sklearn.metrics import confusion_matrix, accuracy_score, classification_report\n",
        "cm = confusion_matrix(y_test, y_pred)\n",
        "print(cm)\n",
        "print('Accuracy : {}'.format(accuracy_score(y_test, y_pred)))\n"
      ],
      "execution_count": 120,
      "outputs": [
        {
          "output_type": "stream",
          "text": [
            "[[13038    13]\n",
            " [    0 16456]]\n",
            "Accuracy : 0.9995594265767445\n"
          ],
          "name": "stdout"
        }
      ]
    },
    {
      "cell_type": "code",
      "metadata": {
        "id": "fQ5aGFvp5y-G"
      },
      "source": [
        ""
      ],
      "execution_count": null,
      "outputs": []
    },
    {
      "cell_type": "markdown",
      "metadata": {
        "id": "lLEpdOU9HGpg"
      },
      "source": [
        "#XG Boost Classifier "
      ]
    },
    {
      "cell_type": "code",
      "metadata": {
        "colab": {
          "base_uri": "https://localhost:8080/"
        },
        "id": "tvHIiitD_jnv",
        "outputId": "2a8fd201-5694-439e-d823-1a4728526f5c"
      },
      "source": [
        "from xgboost import XGBClassifier\n",
        "\n",
        "# fit model no training data\n",
        "xgb_clf = XGBClassifier()\n",
        "xgb_clf.fit(X_train, y_train)\n"
      ],
      "execution_count": 108,
      "outputs": [
        {
          "output_type": "execute_result",
          "data": {
            "text/plain": [
              "XGBClassifier(base_score=0.5, booster='gbtree', colsample_bylevel=1,\n",
              "              colsample_bynode=1, colsample_bytree=1, gamma=0,\n",
              "              learning_rate=0.1, max_delta_step=0, max_depth=3,\n",
              "              min_child_weight=1, missing=None, n_estimators=100, n_jobs=1,\n",
              "              nthread=None, objective='binary:logistic', random_state=0,\n",
              "              reg_alpha=0, reg_lambda=1, scale_pos_weight=1, seed=None,\n",
              "              silent=None, subsample=1, verbosity=1)"
            ]
          },
          "metadata": {
            "tags": []
          },
          "execution_count": 108
        }
      ]
    },
    {
      "cell_type": "code",
      "metadata": {
        "id": "3CamDvxSClvZ"
      },
      "source": [
        "prob_preds = xgb_clf.predict_proba(X_test)\n",
        "threshold = 0.2\n",
        "y_pred = [1 if prob_preds[i][1]>= threshold else 0 for i in range(len(prob_preds))]"
      ],
      "execution_count": 110,
      "outputs": []
    },
    {
      "cell_type": "code",
      "metadata": {
        "colab": {
          "base_uri": "https://localhost:8080/"
        },
        "id": "9vgMhfqeCr6L",
        "outputId": "d747550f-9bd9-4e73-ce11-98cf26d12406"
      },
      "source": [
        "#Creating a confusion matrix and printing the accuracy score \n",
        "from sklearn.metrics import confusion_matrix, accuracy_score, classification_report\n",
        "cm = confusion_matrix(y_test, y_pred)\n",
        "print(cm)\n",
        "print('Accuracy : {}'.format(accuracy_score(y_test, y_pred)))"
      ],
      "execution_count": 111,
      "outputs": [
        {
          "output_type": "stream",
          "text": [
            "[[13051     0]\n",
            " [    0 16456]]\n",
            "Accuracy : 1.0\n"
          ],
          "name": "stdout"
        }
      ]
    },
    {
      "cell_type": "code",
      "metadata": {
        "id": "zPebfr28HpI7"
      },
      "source": [
        ""
      ],
      "execution_count": null,
      "outputs": []
    },
    {
      "cell_type": "markdown",
      "metadata": {
        "id": "N-QmrqUEKejd"
      },
      "source": [
        "# Conclusion\n",
        "\n",
        "\n",
        "![accuracy.png](data:image/png;base64,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)\n",
        "\n",
        "\n",
        "\n",
        "\n"
      ]
    },
    {
      "cell_type": "code",
      "metadata": {
        "id": "aWqI5P9fL-mz"
      },
      "source": [
        ""
      ],
      "execution_count": null,
      "outputs": []
    }
  ]
}